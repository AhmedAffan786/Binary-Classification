{
 "cells": [
  {
   "cell_type": "code",
   "execution_count": 1,
   "id": "d3b327c6",
   "metadata": {
    "execution": {
     "iopub.execute_input": "2021-09-14T09:44:55.691051Z",
     "iopub.status.busy": "2021-09-14T09:44:55.680970Z",
     "iopub.status.idle": "2021-09-14T09:44:58.134873Z",
     "shell.execute_reply": "2021-09-14T09:44:58.134275Z",
     "shell.execute_reply.started": "2021-09-14T09:38:32.891501Z"
    },
    "papermill": {
     "duration": 2.500966,
     "end_time": "2021-09-14T09:44:58.135027",
     "exception": false,
     "start_time": "2021-09-14T09:44:55.634061",
     "status": "completed"
    },
    "tags": []
   },
   "outputs": [
    {
     "data": {
      "text/html": [
       "        <script type=\"text/javascript\">\n",
       "        window.PlotlyConfig = {MathJaxConfig: 'local'};\n",
       "        if (window.MathJax) {MathJax.Hub.Config({SVG: {font: \"STIX-Web\"}});}\n",
       "        if (typeof require !== 'undefined') {\n",
       "        require.undef(\"plotly\");\n",
       "        requirejs.config({\n",
       "            paths: {\n",
       "                'plotly': ['https://cdn.plot.ly/plotly-2.4.2.min']\n",
       "            }\n",
       "        });\n",
       "        require(['plotly'], function(Plotly) {\n",
       "            window._Plotly = Plotly;\n",
       "        });\n",
       "        }\n",
       "        </script>\n",
       "        "
      ]
     },
     "metadata": {},
     "output_type": "display_data"
    }
   ],
   "source": [
    "import numpy as np\n",
    "import pandas as pd\n",
    "from sklearn.ensemble import RandomForestClassifier\n",
    "import seaborn as sns\n",
    "from matplotlib import pyplot as plt\n",
    "from warnings import filterwarnings\n",
    "from sklearn.model_selection import train_test_split\n",
    "from sklearn.preprocessing import LabelEncoder\n",
    "from sklearn.impute import SimpleImputer\n",
    "from sklearn.preprocessing import StandardScaler\n",
    "from scipy.stats import norm\n",
    "from sklearn.tree import DecisionTreeClassifier\n",
    "from sklearn.linear_model import LogisticRegression\n",
    "from sklearn.metrics import accuracy_score, classification_report, confusion_matrix\n",
    "from sklearn.ensemble import RandomForestClassifier\n",
    "from sklearn.neighbors import KNeighborsClassifier\n",
    "from sklearn.svm import SVC\n",
    "from sklearn.ensemble import AdaBoostClassifier\n",
    "from sklearn.naive_bayes import GaussianNB\n",
    "from sklearn.model_selection import cross_val_score,KFold\n",
    "import plotly.express as px\n",
    "from sklearn.svm import SVC\n",
    "from plotly.offline import plot, iplot, init_notebook_mode\n",
    "init_notebook_mode(connected=True)"
   ]
  },
  {
   "cell_type": "code",
   "execution_count": 2,
   "id": "bd874864",
   "metadata": {
    "execution": {
     "iopub.execute_input": "2021-09-14T09:44:58.226256Z",
     "iopub.status.busy": "2021-09-14T09:44:58.225690Z",
     "iopub.status.idle": "2021-09-14T09:44:58.259545Z",
     "shell.execute_reply": "2021-09-14T09:44:58.260188Z",
     "shell.execute_reply.started": "2021-09-14T09:38:32.907165Z"
    },
    "papermill": {
     "duration": 0.080327,
     "end_time": "2021-09-14T09:44:58.260364",
     "exception": false,
     "start_time": "2021-09-14T09:44:58.180037",
     "status": "completed"
    },
    "tags": []
   },
   "outputs": [
    {
     "data": {
      "text/html": [
       "<div>\n",
       "<style scoped>\n",
       "    .dataframe tbody tr th:only-of-type {\n",
       "        vertical-align: middle;\n",
       "    }\n",
       "\n",
       "    .dataframe tbody tr th {\n",
       "        vertical-align: top;\n",
       "    }\n",
       "\n",
       "    .dataframe thead th {\n",
       "        text-align: right;\n",
       "    }\n",
       "</style>\n",
       "<table border=\"1\" class=\"dataframe\">\n",
       "  <thead>\n",
       "    <tr style=\"text-align: right;\">\n",
       "      <th></th>\n",
       "      <th>PassengerId</th>\n",
       "      <th>Survived</th>\n",
       "      <th>Pclass</th>\n",
       "      <th>Name</th>\n",
       "      <th>Sex</th>\n",
       "      <th>Age</th>\n",
       "      <th>SibSp</th>\n",
       "      <th>Parch</th>\n",
       "      <th>Ticket</th>\n",
       "      <th>Fare</th>\n",
       "      <th>Cabin</th>\n",
       "      <th>Embarked</th>\n",
       "    </tr>\n",
       "  </thead>\n",
       "  <tbody>\n",
       "    <tr>\n",
       "      <th>0</th>\n",
       "      <td>1</td>\n",
       "      <td>0</td>\n",
       "      <td>3</td>\n",
       "      <td>Braund, Mr. Owen Harris</td>\n",
       "      <td>male</td>\n",
       "      <td>22.0</td>\n",
       "      <td>1</td>\n",
       "      <td>0</td>\n",
       "      <td>A/5 21171</td>\n",
       "      <td>7.2500</td>\n",
       "      <td>NaN</td>\n",
       "      <td>S</td>\n",
       "    </tr>\n",
       "    <tr>\n",
       "      <th>1</th>\n",
       "      <td>2</td>\n",
       "      <td>1</td>\n",
       "      <td>1</td>\n",
       "      <td>Cumings, Mrs. John Bradley (Florence Briggs Th...</td>\n",
       "      <td>female</td>\n",
       "      <td>38.0</td>\n",
       "      <td>1</td>\n",
       "      <td>0</td>\n",
       "      <td>PC 17599</td>\n",
       "      <td>71.2833</td>\n",
       "      <td>C85</td>\n",
       "      <td>C</td>\n",
       "    </tr>\n",
       "    <tr>\n",
       "      <th>2</th>\n",
       "      <td>3</td>\n",
       "      <td>1</td>\n",
       "      <td>3</td>\n",
       "      <td>Heikkinen, Miss. Laina</td>\n",
       "      <td>female</td>\n",
       "      <td>26.0</td>\n",
       "      <td>0</td>\n",
       "      <td>0</td>\n",
       "      <td>STON/O2. 3101282</td>\n",
       "      <td>7.9250</td>\n",
       "      <td>NaN</td>\n",
       "      <td>S</td>\n",
       "    </tr>\n",
       "    <tr>\n",
       "      <th>3</th>\n",
       "      <td>4</td>\n",
       "      <td>1</td>\n",
       "      <td>1</td>\n",
       "      <td>Futrelle, Mrs. Jacques Heath (Lily May Peel)</td>\n",
       "      <td>female</td>\n",
       "      <td>35.0</td>\n",
       "      <td>1</td>\n",
       "      <td>0</td>\n",
       "      <td>113803</td>\n",
       "      <td>53.1000</td>\n",
       "      <td>C123</td>\n",
       "      <td>S</td>\n",
       "    </tr>\n",
       "    <tr>\n",
       "      <th>4</th>\n",
       "      <td>5</td>\n",
       "      <td>0</td>\n",
       "      <td>3</td>\n",
       "      <td>Allen, Mr. William Henry</td>\n",
       "      <td>male</td>\n",
       "      <td>35.0</td>\n",
       "      <td>0</td>\n",
       "      <td>0</td>\n",
       "      <td>373450</td>\n",
       "      <td>8.0500</td>\n",
       "      <td>NaN</td>\n",
       "      <td>S</td>\n",
       "    </tr>\n",
       "  </tbody>\n",
       "</table>\n",
       "</div>"
      ],
      "text/plain": [
       "   PassengerId  Survived  Pclass  \\\n",
       "0            1         0       3   \n",
       "1            2         1       1   \n",
       "2            3         1       3   \n",
       "3            4         1       1   \n",
       "4            5         0       3   \n",
       "\n",
       "                                                Name     Sex   Age  SibSp  \\\n",
       "0                            Braund, Mr. Owen Harris    male  22.0      1   \n",
       "1  Cumings, Mrs. John Bradley (Florence Briggs Th...  female  38.0      1   \n",
       "2                             Heikkinen, Miss. Laina  female  26.0      0   \n",
       "3       Futrelle, Mrs. Jacques Heath (Lily May Peel)  female  35.0      1   \n",
       "4                           Allen, Mr. William Henry    male  35.0      0   \n",
       "\n",
       "   Parch            Ticket     Fare Cabin Embarked  \n",
       "0      0         A/5 21171   7.2500   NaN        S  \n",
       "1      0          PC 17599  71.2833   C85        C  \n",
       "2      0  STON/O2. 3101282   7.9250   NaN        S  \n",
       "3      0            113803  53.1000  C123        S  \n",
       "4      0            373450   8.0500   NaN        S  "
      ]
     },
     "execution_count": 2,
     "metadata": {},
     "output_type": "execute_result"
    }
   ],
   "source": [
    "train_data = pd.read_csv(\"../input/titanic/train.csv\")\n",
    "train_data.head()"
   ]
  },
  {
   "cell_type": "code",
   "execution_count": 3,
   "id": "c66f63ae",
   "metadata": {
    "execution": {
     "iopub.execute_input": "2021-09-14T09:44:58.354353Z",
     "iopub.status.busy": "2021-09-14T09:44:58.353309Z",
     "iopub.status.idle": "2021-09-14T09:44:58.361656Z",
     "shell.execute_reply": "2021-09-14T09:44:58.362139Z",
     "shell.execute_reply.started": "2021-09-14T09:38:32.942648Z"
    },
    "papermill": {
     "duration": 0.055149,
     "end_time": "2021-09-14T09:44:58.362312",
     "exception": false,
     "start_time": "2021-09-14T09:44:58.307163",
     "status": "completed"
    },
    "tags": []
   },
   "outputs": [
    {
     "data": {
      "text/plain": [
       "PassengerId      0\n",
       "Survived         0\n",
       "Pclass           0\n",
       "Name             0\n",
       "Sex              0\n",
       "Age            177\n",
       "SibSp            0\n",
       "Parch            0\n",
       "Ticket           0\n",
       "Fare             0\n",
       "Cabin          687\n",
       "Embarked         2\n",
       "dtype: int64"
      ]
     },
     "execution_count": 3,
     "metadata": {},
     "output_type": "execute_result"
    }
   ],
   "source": [
    "train_data.isnull().sum()"
   ]
  },
  {
   "cell_type": "code",
   "execution_count": 4,
   "id": "91b39f41",
   "metadata": {
    "execution": {
     "iopub.execute_input": "2021-09-14T09:44:58.451617Z",
     "iopub.status.busy": "2021-09-14T09:44:58.450655Z",
     "iopub.status.idle": "2021-09-14T09:44:58.478959Z",
     "shell.execute_reply": "2021-09-14T09:44:58.479524Z",
     "shell.execute_reply.started": "2021-09-14T09:38:32.955653Z"
    },
    "papermill": {
     "duration": 0.074821,
     "end_time": "2021-09-14T09:44:58.479696",
     "exception": false,
     "start_time": "2021-09-14T09:44:58.404875",
     "status": "completed"
    },
    "tags": []
   },
   "outputs": [
    {
     "data": {
      "text/html": [
       "<div>\n",
       "<style scoped>\n",
       "    .dataframe tbody tr th:only-of-type {\n",
       "        vertical-align: middle;\n",
       "    }\n",
       "\n",
       "    .dataframe tbody tr th {\n",
       "        vertical-align: top;\n",
       "    }\n",
       "\n",
       "    .dataframe thead th {\n",
       "        text-align: right;\n",
       "    }\n",
       "</style>\n",
       "<table border=\"1\" class=\"dataframe\">\n",
       "  <thead>\n",
       "    <tr style=\"text-align: right;\">\n",
       "      <th></th>\n",
       "      <th>PassengerId</th>\n",
       "      <th>Survived</th>\n",
       "      <th>Pclass</th>\n",
       "      <th>Name</th>\n",
       "      <th>Sex</th>\n",
       "      <th>Age</th>\n",
       "      <th>SibSp</th>\n",
       "      <th>Parch</th>\n",
       "      <th>Ticket</th>\n",
       "      <th>Fare</th>\n",
       "      <th>Embarked</th>\n",
       "    </tr>\n",
       "  </thead>\n",
       "  <tbody>\n",
       "    <tr>\n",
       "      <th>0</th>\n",
       "      <td>1</td>\n",
       "      <td>0</td>\n",
       "      <td>3</td>\n",
       "      <td>Braund, Mr. Owen Harris</td>\n",
       "      <td>male</td>\n",
       "      <td>22.0</td>\n",
       "      <td>1</td>\n",
       "      <td>0</td>\n",
       "      <td>A/5 21171</td>\n",
       "      <td>7.2500</td>\n",
       "      <td>S</td>\n",
       "    </tr>\n",
       "    <tr>\n",
       "      <th>1</th>\n",
       "      <td>2</td>\n",
       "      <td>1</td>\n",
       "      <td>1</td>\n",
       "      <td>Cumings, Mrs. John Bradley (Florence Briggs Th...</td>\n",
       "      <td>female</td>\n",
       "      <td>38.0</td>\n",
       "      <td>1</td>\n",
       "      <td>0</td>\n",
       "      <td>PC 17599</td>\n",
       "      <td>71.2833</td>\n",
       "      <td>C</td>\n",
       "    </tr>\n",
       "    <tr>\n",
       "      <th>2</th>\n",
       "      <td>3</td>\n",
       "      <td>1</td>\n",
       "      <td>3</td>\n",
       "      <td>Heikkinen, Miss. Laina</td>\n",
       "      <td>female</td>\n",
       "      <td>26.0</td>\n",
       "      <td>0</td>\n",
       "      <td>0</td>\n",
       "      <td>STON/O2. 3101282</td>\n",
       "      <td>7.9250</td>\n",
       "      <td>S</td>\n",
       "    </tr>\n",
       "    <tr>\n",
       "      <th>3</th>\n",
       "      <td>4</td>\n",
       "      <td>1</td>\n",
       "      <td>1</td>\n",
       "      <td>Futrelle, Mrs. Jacques Heath (Lily May Peel)</td>\n",
       "      <td>female</td>\n",
       "      <td>35.0</td>\n",
       "      <td>1</td>\n",
       "      <td>0</td>\n",
       "      <td>113803</td>\n",
       "      <td>53.1000</td>\n",
       "      <td>S</td>\n",
       "    </tr>\n",
       "    <tr>\n",
       "      <th>4</th>\n",
       "      <td>5</td>\n",
       "      <td>0</td>\n",
       "      <td>3</td>\n",
       "      <td>Allen, Mr. William Henry</td>\n",
       "      <td>male</td>\n",
       "      <td>35.0</td>\n",
       "      <td>0</td>\n",
       "      <td>0</td>\n",
       "      <td>373450</td>\n",
       "      <td>8.0500</td>\n",
       "      <td>S</td>\n",
       "    </tr>\n",
       "    <tr>\n",
       "      <th>...</th>\n",
       "      <td>...</td>\n",
       "      <td>...</td>\n",
       "      <td>...</td>\n",
       "      <td>...</td>\n",
       "      <td>...</td>\n",
       "      <td>...</td>\n",
       "      <td>...</td>\n",
       "      <td>...</td>\n",
       "      <td>...</td>\n",
       "      <td>...</td>\n",
       "      <td>...</td>\n",
       "    </tr>\n",
       "    <tr>\n",
       "      <th>886</th>\n",
       "      <td>887</td>\n",
       "      <td>0</td>\n",
       "      <td>2</td>\n",
       "      <td>Montvila, Rev. Juozas</td>\n",
       "      <td>male</td>\n",
       "      <td>27.0</td>\n",
       "      <td>0</td>\n",
       "      <td>0</td>\n",
       "      <td>211536</td>\n",
       "      <td>13.0000</td>\n",
       "      <td>S</td>\n",
       "    </tr>\n",
       "    <tr>\n",
       "      <th>887</th>\n",
       "      <td>888</td>\n",
       "      <td>1</td>\n",
       "      <td>1</td>\n",
       "      <td>Graham, Miss. Margaret Edith</td>\n",
       "      <td>female</td>\n",
       "      <td>19.0</td>\n",
       "      <td>0</td>\n",
       "      <td>0</td>\n",
       "      <td>112053</td>\n",
       "      <td>30.0000</td>\n",
       "      <td>S</td>\n",
       "    </tr>\n",
       "    <tr>\n",
       "      <th>888</th>\n",
       "      <td>889</td>\n",
       "      <td>0</td>\n",
       "      <td>3</td>\n",
       "      <td>Johnston, Miss. Catherine Helen \"Carrie\"</td>\n",
       "      <td>female</td>\n",
       "      <td>NaN</td>\n",
       "      <td>1</td>\n",
       "      <td>2</td>\n",
       "      <td>W./C. 6607</td>\n",
       "      <td>23.4500</td>\n",
       "      <td>S</td>\n",
       "    </tr>\n",
       "    <tr>\n",
       "      <th>889</th>\n",
       "      <td>890</td>\n",
       "      <td>1</td>\n",
       "      <td>1</td>\n",
       "      <td>Behr, Mr. Karl Howell</td>\n",
       "      <td>male</td>\n",
       "      <td>26.0</td>\n",
       "      <td>0</td>\n",
       "      <td>0</td>\n",
       "      <td>111369</td>\n",
       "      <td>30.0000</td>\n",
       "      <td>C</td>\n",
       "    </tr>\n",
       "    <tr>\n",
       "      <th>890</th>\n",
       "      <td>891</td>\n",
       "      <td>0</td>\n",
       "      <td>3</td>\n",
       "      <td>Dooley, Mr. Patrick</td>\n",
       "      <td>male</td>\n",
       "      <td>32.0</td>\n",
       "      <td>0</td>\n",
       "      <td>0</td>\n",
       "      <td>370376</td>\n",
       "      <td>7.7500</td>\n",
       "      <td>Q</td>\n",
       "    </tr>\n",
       "  </tbody>\n",
       "</table>\n",
       "<p>891 rows × 11 columns</p>\n",
       "</div>"
      ],
      "text/plain": [
       "     PassengerId  Survived  Pclass  \\\n",
       "0              1         0       3   \n",
       "1              2         1       1   \n",
       "2              3         1       3   \n",
       "3              4         1       1   \n",
       "4              5         0       3   \n",
       "..           ...       ...     ...   \n",
       "886          887         0       2   \n",
       "887          888         1       1   \n",
       "888          889         0       3   \n",
       "889          890         1       1   \n",
       "890          891         0       3   \n",
       "\n",
       "                                                  Name     Sex   Age  SibSp  \\\n",
       "0                              Braund, Mr. Owen Harris    male  22.0      1   \n",
       "1    Cumings, Mrs. John Bradley (Florence Briggs Th...  female  38.0      1   \n",
       "2                               Heikkinen, Miss. Laina  female  26.0      0   \n",
       "3         Futrelle, Mrs. Jacques Heath (Lily May Peel)  female  35.0      1   \n",
       "4                             Allen, Mr. William Henry    male  35.0      0   \n",
       "..                                                 ...     ...   ...    ...   \n",
       "886                              Montvila, Rev. Juozas    male  27.0      0   \n",
       "887                       Graham, Miss. Margaret Edith  female  19.0      0   \n",
       "888           Johnston, Miss. Catherine Helen \"Carrie\"  female   NaN      1   \n",
       "889                              Behr, Mr. Karl Howell    male  26.0      0   \n",
       "890                                Dooley, Mr. Patrick    male  32.0      0   \n",
       "\n",
       "     Parch            Ticket     Fare Embarked  \n",
       "0        0         A/5 21171   7.2500        S  \n",
       "1        0          PC 17599  71.2833        C  \n",
       "2        0  STON/O2. 3101282   7.9250        S  \n",
       "3        0            113803  53.1000        S  \n",
       "4        0            373450   8.0500        S  \n",
       "..     ...               ...      ...      ...  \n",
       "886      0            211536  13.0000        S  \n",
       "887      0            112053  30.0000        S  \n",
       "888      2        W./C. 6607  23.4500        S  \n",
       "889      0            111369  30.0000        C  \n",
       "890      0            370376   7.7500        Q  \n",
       "\n",
       "[891 rows x 11 columns]"
      ]
     },
     "execution_count": 4,
     "metadata": {},
     "output_type": "execute_result"
    }
   ],
   "source": [
    "#cabin has more null values. So let's drop cabin column\n",
    "train_data=train_data.drop(columns=[\"Cabin\"],axis=1)\n",
    "train_data"
   ]
  },
  {
   "cell_type": "code",
   "execution_count": 5,
   "id": "38468cd5",
   "metadata": {
    "execution": {
     "iopub.execute_input": "2021-09-14T09:44:58.572982Z",
     "iopub.status.busy": "2021-09-14T09:44:58.572343Z",
     "iopub.status.idle": "2021-09-14T09:44:58.590431Z",
     "shell.execute_reply": "2021-09-14T09:44:58.590916Z",
     "shell.execute_reply.started": "2021-09-14T09:38:32.987887Z"
    },
    "papermill": {
     "duration": 0.064243,
     "end_time": "2021-09-14T09:44:58.591067",
     "exception": false,
     "start_time": "2021-09-14T09:44:58.526824",
     "status": "completed"
    },
    "tags": []
   },
   "outputs": [
    {
     "data": {
      "text/html": [
       "<div>\n",
       "<style scoped>\n",
       "    .dataframe tbody tr th:only-of-type {\n",
       "        vertical-align: middle;\n",
       "    }\n",
       "\n",
       "    .dataframe tbody tr th {\n",
       "        vertical-align: top;\n",
       "    }\n",
       "\n",
       "    .dataframe thead th {\n",
       "        text-align: right;\n",
       "    }\n",
       "</style>\n",
       "<table border=\"1\" class=\"dataframe\">\n",
       "  <thead>\n",
       "    <tr style=\"text-align: right;\">\n",
       "      <th></th>\n",
       "      <th>Survived</th>\n",
       "      <th>Pclass</th>\n",
       "      <th>Sex</th>\n",
       "      <th>Age</th>\n",
       "      <th>SibSp</th>\n",
       "      <th>Parch</th>\n",
       "      <th>Fare</th>\n",
       "      <th>Embarked</th>\n",
       "    </tr>\n",
       "  </thead>\n",
       "  <tbody>\n",
       "    <tr>\n",
       "      <th>0</th>\n",
       "      <td>0</td>\n",
       "      <td>3</td>\n",
       "      <td>male</td>\n",
       "      <td>22.0</td>\n",
       "      <td>1</td>\n",
       "      <td>0</td>\n",
       "      <td>7.2500</td>\n",
       "      <td>S</td>\n",
       "    </tr>\n",
       "    <tr>\n",
       "      <th>1</th>\n",
       "      <td>1</td>\n",
       "      <td>1</td>\n",
       "      <td>female</td>\n",
       "      <td>38.0</td>\n",
       "      <td>1</td>\n",
       "      <td>0</td>\n",
       "      <td>71.2833</td>\n",
       "      <td>C</td>\n",
       "    </tr>\n",
       "    <tr>\n",
       "      <th>2</th>\n",
       "      <td>1</td>\n",
       "      <td>3</td>\n",
       "      <td>female</td>\n",
       "      <td>26.0</td>\n",
       "      <td>0</td>\n",
       "      <td>0</td>\n",
       "      <td>7.9250</td>\n",
       "      <td>S</td>\n",
       "    </tr>\n",
       "    <tr>\n",
       "      <th>3</th>\n",
       "      <td>1</td>\n",
       "      <td>1</td>\n",
       "      <td>female</td>\n",
       "      <td>35.0</td>\n",
       "      <td>1</td>\n",
       "      <td>0</td>\n",
       "      <td>53.1000</td>\n",
       "      <td>S</td>\n",
       "    </tr>\n",
       "    <tr>\n",
       "      <th>4</th>\n",
       "      <td>0</td>\n",
       "      <td>3</td>\n",
       "      <td>male</td>\n",
       "      <td>35.0</td>\n",
       "      <td>0</td>\n",
       "      <td>0</td>\n",
       "      <td>8.0500</td>\n",
       "      <td>S</td>\n",
       "    </tr>\n",
       "    <tr>\n",
       "      <th>...</th>\n",
       "      <td>...</td>\n",
       "      <td>...</td>\n",
       "      <td>...</td>\n",
       "      <td>...</td>\n",
       "      <td>...</td>\n",
       "      <td>...</td>\n",
       "      <td>...</td>\n",
       "      <td>...</td>\n",
       "    </tr>\n",
       "    <tr>\n",
       "      <th>886</th>\n",
       "      <td>0</td>\n",
       "      <td>2</td>\n",
       "      <td>male</td>\n",
       "      <td>27.0</td>\n",
       "      <td>0</td>\n",
       "      <td>0</td>\n",
       "      <td>13.0000</td>\n",
       "      <td>S</td>\n",
       "    </tr>\n",
       "    <tr>\n",
       "      <th>887</th>\n",
       "      <td>1</td>\n",
       "      <td>1</td>\n",
       "      <td>female</td>\n",
       "      <td>19.0</td>\n",
       "      <td>0</td>\n",
       "      <td>0</td>\n",
       "      <td>30.0000</td>\n",
       "      <td>S</td>\n",
       "    </tr>\n",
       "    <tr>\n",
       "      <th>888</th>\n",
       "      <td>0</td>\n",
       "      <td>3</td>\n",
       "      <td>female</td>\n",
       "      <td>NaN</td>\n",
       "      <td>1</td>\n",
       "      <td>2</td>\n",
       "      <td>23.4500</td>\n",
       "      <td>S</td>\n",
       "    </tr>\n",
       "    <tr>\n",
       "      <th>889</th>\n",
       "      <td>1</td>\n",
       "      <td>1</td>\n",
       "      <td>male</td>\n",
       "      <td>26.0</td>\n",
       "      <td>0</td>\n",
       "      <td>0</td>\n",
       "      <td>30.0000</td>\n",
       "      <td>C</td>\n",
       "    </tr>\n",
       "    <tr>\n",
       "      <th>890</th>\n",
       "      <td>0</td>\n",
       "      <td>3</td>\n",
       "      <td>male</td>\n",
       "      <td>32.0</td>\n",
       "      <td>0</td>\n",
       "      <td>0</td>\n",
       "      <td>7.7500</td>\n",
       "      <td>Q</td>\n",
       "    </tr>\n",
       "  </tbody>\n",
       "</table>\n",
       "<p>891 rows × 8 columns</p>\n",
       "</div>"
      ],
      "text/plain": [
       "     Survived  Pclass     Sex   Age  SibSp  Parch     Fare Embarked\n",
       "0           0       3    male  22.0      1      0   7.2500        S\n",
       "1           1       1  female  38.0      1      0  71.2833        C\n",
       "2           1       3  female  26.0      0      0   7.9250        S\n",
       "3           1       1  female  35.0      1      0  53.1000        S\n",
       "4           0       3    male  35.0      0      0   8.0500        S\n",
       "..        ...     ...     ...   ...    ...    ...      ...      ...\n",
       "886         0       2    male  27.0      0      0  13.0000        S\n",
       "887         1       1  female  19.0      0      0  30.0000        S\n",
       "888         0       3  female   NaN      1      2  23.4500        S\n",
       "889         1       1    male  26.0      0      0  30.0000        C\n",
       "890         0       3    male  32.0      0      0   7.7500        Q\n",
       "\n",
       "[891 rows x 8 columns]"
      ]
     },
     "execution_count": 5,
     "metadata": {},
     "output_type": "execute_result"
    }
   ],
   "source": [
    "#Also let's drop few more columns which doesn't have any impact in our prediction\n",
    "train_data=train_data.drop(columns=[\"PassengerId\",\"Name\",\"Ticket\"],axis=1)\n",
    "train_data"
   ]
  },
  {
   "cell_type": "code",
   "execution_count": 6,
   "id": "e158a431",
   "metadata": {
    "execution": {
     "iopub.execute_input": "2021-09-14T09:44:58.706914Z",
     "iopub.status.busy": "2021-09-14T09:44:58.705964Z",
     "iopub.status.idle": "2021-09-14T09:44:58.710114Z",
     "shell.execute_reply": "2021-09-14T09:44:58.711563Z",
     "shell.execute_reply.started": "2021-09-14T09:38:33.013363Z"
    },
    "papermill": {
     "duration": 0.071397,
     "end_time": "2021-09-14T09:44:58.711775",
     "exception": false,
     "start_time": "2021-09-14T09:44:58.640378",
     "status": "completed"
    },
    "tags": []
   },
   "outputs": [
    {
     "data": {
      "text/plain": [
       "Survived      0\n",
       "Pclass        0\n",
       "Sex           0\n",
       "Age         177\n",
       "SibSp         0\n",
       "Parch         0\n",
       "Fare          0\n",
       "Embarked      2\n",
       "dtype: int64"
      ]
     },
     "execution_count": 6,
     "metadata": {},
     "output_type": "execute_result"
    }
   ],
   "source": [
    "#missing values\n",
    "train_data.isnull().sum()"
   ]
  },
  {
   "cell_type": "code",
   "execution_count": 7,
   "id": "d475e259",
   "metadata": {
    "execution": {
     "iopub.execute_input": "2021-09-14T09:44:58.814039Z",
     "iopub.status.busy": "2021-09-14T09:44:58.812412Z",
     "iopub.status.idle": "2021-09-14T09:44:58.836919Z",
     "shell.execute_reply": "2021-09-14T09:44:58.836247Z",
     "shell.execute_reply.started": "2021-09-14T09:38:33.025229Z"
    },
    "papermill": {
     "duration": 0.074314,
     "end_time": "2021-09-14T09:44:58.837088",
     "exception": false,
     "start_time": "2021-09-14T09:44:58.762774",
     "status": "completed"
    },
    "tags": []
   },
   "outputs": [
    {
     "data": {
      "text/html": [
       "<div>\n",
       "<style scoped>\n",
       "    .dataframe tbody tr th:only-of-type {\n",
       "        vertical-align: middle;\n",
       "    }\n",
       "\n",
       "    .dataframe tbody tr th {\n",
       "        vertical-align: top;\n",
       "    }\n",
       "\n",
       "    .dataframe thead th {\n",
       "        text-align: right;\n",
       "    }\n",
       "</style>\n",
       "<table border=\"1\" class=\"dataframe\">\n",
       "  <thead>\n",
       "    <tr style=\"text-align: right;\">\n",
       "      <th></th>\n",
       "      <th>PassengerId</th>\n",
       "      <th>Pclass</th>\n",
       "      <th>Name</th>\n",
       "      <th>Sex</th>\n",
       "      <th>Age</th>\n",
       "      <th>SibSp</th>\n",
       "      <th>Parch</th>\n",
       "      <th>Ticket</th>\n",
       "      <th>Fare</th>\n",
       "      <th>Cabin</th>\n",
       "      <th>Embarked</th>\n",
       "    </tr>\n",
       "  </thead>\n",
       "  <tbody>\n",
       "    <tr>\n",
       "      <th>0</th>\n",
       "      <td>892</td>\n",
       "      <td>3</td>\n",
       "      <td>Kelly, Mr. James</td>\n",
       "      <td>male</td>\n",
       "      <td>34.5</td>\n",
       "      <td>0</td>\n",
       "      <td>0</td>\n",
       "      <td>330911</td>\n",
       "      <td>7.8292</td>\n",
       "      <td>NaN</td>\n",
       "      <td>Q</td>\n",
       "    </tr>\n",
       "    <tr>\n",
       "      <th>1</th>\n",
       "      <td>893</td>\n",
       "      <td>3</td>\n",
       "      <td>Wilkes, Mrs. James (Ellen Needs)</td>\n",
       "      <td>female</td>\n",
       "      <td>47.0</td>\n",
       "      <td>1</td>\n",
       "      <td>0</td>\n",
       "      <td>363272</td>\n",
       "      <td>7.0000</td>\n",
       "      <td>NaN</td>\n",
       "      <td>S</td>\n",
       "    </tr>\n",
       "    <tr>\n",
       "      <th>2</th>\n",
       "      <td>894</td>\n",
       "      <td>2</td>\n",
       "      <td>Myles, Mr. Thomas Francis</td>\n",
       "      <td>male</td>\n",
       "      <td>62.0</td>\n",
       "      <td>0</td>\n",
       "      <td>0</td>\n",
       "      <td>240276</td>\n",
       "      <td>9.6875</td>\n",
       "      <td>NaN</td>\n",
       "      <td>Q</td>\n",
       "    </tr>\n",
       "    <tr>\n",
       "      <th>3</th>\n",
       "      <td>895</td>\n",
       "      <td>3</td>\n",
       "      <td>Wirz, Mr. Albert</td>\n",
       "      <td>male</td>\n",
       "      <td>27.0</td>\n",
       "      <td>0</td>\n",
       "      <td>0</td>\n",
       "      <td>315154</td>\n",
       "      <td>8.6625</td>\n",
       "      <td>NaN</td>\n",
       "      <td>S</td>\n",
       "    </tr>\n",
       "    <tr>\n",
       "      <th>4</th>\n",
       "      <td>896</td>\n",
       "      <td>3</td>\n",
       "      <td>Hirvonen, Mrs. Alexander (Helga E Lindqvist)</td>\n",
       "      <td>female</td>\n",
       "      <td>22.0</td>\n",
       "      <td>1</td>\n",
       "      <td>1</td>\n",
       "      <td>3101298</td>\n",
       "      <td>12.2875</td>\n",
       "      <td>NaN</td>\n",
       "      <td>S</td>\n",
       "    </tr>\n",
       "  </tbody>\n",
       "</table>\n",
       "</div>"
      ],
      "text/plain": [
       "   PassengerId  Pclass                                          Name     Sex  \\\n",
       "0          892       3                              Kelly, Mr. James    male   \n",
       "1          893       3              Wilkes, Mrs. James (Ellen Needs)  female   \n",
       "2          894       2                     Myles, Mr. Thomas Francis    male   \n",
       "3          895       3                              Wirz, Mr. Albert    male   \n",
       "4          896       3  Hirvonen, Mrs. Alexander (Helga E Lindqvist)  female   \n",
       "\n",
       "    Age  SibSp  Parch   Ticket     Fare Cabin Embarked  \n",
       "0  34.5      0      0   330911   7.8292   NaN        Q  \n",
       "1  47.0      1      0   363272   7.0000   NaN        S  \n",
       "2  62.0      0      0   240276   9.6875   NaN        Q  \n",
       "3  27.0      0      0   315154   8.6625   NaN        S  \n",
       "4  22.0      1      1  3101298  12.2875   NaN        S  "
      ]
     },
     "execution_count": 7,
     "metadata": {},
     "output_type": "execute_result"
    }
   ],
   "source": [
    "test_data = pd.read_csv(\"../input/titanic/test.csv\")\n",
    "test_data.head()"
   ]
  },
  {
   "cell_type": "code",
   "execution_count": 8,
   "id": "b523472a",
   "metadata": {
    "execution": {
     "iopub.execute_input": "2021-09-14T09:44:58.941674Z",
     "iopub.status.busy": "2021-09-14T09:44:58.940943Z",
     "iopub.status.idle": "2021-09-14T09:44:58.943657Z",
     "shell.execute_reply": "2021-09-14T09:44:58.944160Z",
     "shell.execute_reply.started": "2021-09-14T09:38:33.051217Z"
    },
    "papermill": {
     "duration": 0.060742,
     "end_time": "2021-09-14T09:44:58.944325",
     "exception": false,
     "start_time": "2021-09-14T09:44:58.883583",
     "status": "completed"
    },
    "tags": []
   },
   "outputs": [
    {
     "data": {
      "text/plain": [
       "Pclass\n",
       "1    38.233441\n",
       "2    29.877630\n",
       "3    25.140620\n",
       "Name: Age, dtype: float64"
      ]
     },
     "execution_count": 8,
     "metadata": {},
     "output_type": "execute_result"
    }
   ],
   "source": [
    "train_data.groupby(\"Pclass\")[\"Age\"].mean()"
   ]
  },
  {
   "cell_type": "code",
   "execution_count": 9,
   "id": "0ee4da9d",
   "metadata": {
    "execution": {
     "iopub.execute_input": "2021-09-14T09:44:59.042563Z",
     "iopub.status.busy": "2021-09-14T09:44:59.041939Z",
     "iopub.status.idle": "2021-09-14T09:44:59.045926Z",
     "shell.execute_reply": "2021-09-14T09:44:59.046315Z",
     "shell.execute_reply.started": "2021-09-14T09:38:33.064519Z"
    },
    "papermill": {
     "duration": 0.052572,
     "end_time": "2021-09-14T09:44:59.046458",
     "exception": false,
     "start_time": "2021-09-14T09:44:58.993886",
     "status": "completed"
    },
    "tags": []
   },
   "outputs": [],
   "source": [
    "#Now, Let's fill all the missing values to proceed for our analysis\n",
    "def Age(cols):\n",
    "    Age=cols[0]\n",
    "    Pclass=cols[1]\n",
    "    if pd.isnull(Age):\n",
    "        if Pclass==1:\n",
    "            return 38.23\n",
    "        elif Pclass==2:\n",
    "            return 29.87\n",
    "        elif Pclass==3:\n",
    "            return 25.14\n",
    "    else:\n",
    "        return Age\n",
    "    "
   ]
  },
  {
   "cell_type": "code",
   "execution_count": 10,
   "id": "3bb0ac64",
   "metadata": {
    "execution": {
     "iopub.execute_input": "2021-09-14T09:44:59.137151Z",
     "iopub.status.busy": "2021-09-14T09:44:59.136490Z",
     "iopub.status.idle": "2021-09-14T09:44:59.156121Z",
     "shell.execute_reply": "2021-09-14T09:44:59.156624Z",
     "shell.execute_reply.started": "2021-09-14T09:38:33.076456Z"
    },
    "papermill": {
     "duration": 0.065984,
     "end_time": "2021-09-14T09:44:59.156795",
     "exception": false,
     "start_time": "2021-09-14T09:44:59.090811",
     "status": "completed"
    },
    "tags": []
   },
   "outputs": [],
   "source": [
    "train_data[\"Age\"]=train_data[[\"Age\",\"Pclass\"]].apply(Age,axis=1)"
   ]
  },
  {
   "cell_type": "code",
   "execution_count": 11,
   "id": "7e12709b",
   "metadata": {
    "execution": {
     "iopub.execute_input": "2021-09-14T09:44:59.257644Z",
     "iopub.status.busy": "2021-09-14T09:44:59.256871Z",
     "iopub.status.idle": "2021-09-14T09:44:59.264861Z",
     "shell.execute_reply": "2021-09-14T09:44:59.264357Z",
     "shell.execute_reply.started": "2021-09-14T09:38:33.107202Z"
    },
    "papermill": {
     "duration": 0.061721,
     "end_time": "2021-09-14T09:44:59.265000",
     "exception": false,
     "start_time": "2021-09-14T09:44:59.203279",
     "status": "completed"
    },
    "tags": []
   },
   "outputs": [
    {
     "data": {
      "text/plain": [
       "Survived    0\n",
       "Pclass      0\n",
       "Sex         0\n",
       "Age         0\n",
       "SibSp       0\n",
       "Parch       0\n",
       "Fare        0\n",
       "Embarked    2\n",
       "dtype: int64"
      ]
     },
     "execution_count": 11,
     "metadata": {},
     "output_type": "execute_result"
    }
   ],
   "source": [
    "train_data.isnull().sum()"
   ]
  },
  {
   "cell_type": "code",
   "execution_count": 12,
   "id": "cbeb6b2b",
   "metadata": {
    "execution": {
     "iopub.execute_input": "2021-09-14T09:44:59.373667Z",
     "iopub.status.busy": "2021-09-14T09:44:59.372822Z",
     "iopub.status.idle": "2021-09-14T09:44:59.376133Z",
     "shell.execute_reply": "2021-09-14T09:44:59.376668Z",
     "shell.execute_reply.started": "2021-09-14T09:38:33.119082Z"
    },
    "papermill": {
     "duration": 0.064851,
     "end_time": "2021-09-14T09:44:59.376852",
     "exception": false,
     "start_time": "2021-09-14T09:44:59.312001",
     "status": "completed"
    },
    "tags": []
   },
   "outputs": [
    {
     "data": {
      "text/html": [
       "<div>\n",
       "<style scoped>\n",
       "    .dataframe tbody tr th:only-of-type {\n",
       "        vertical-align: middle;\n",
       "    }\n",
       "\n",
       "    .dataframe tbody tr th {\n",
       "        vertical-align: top;\n",
       "    }\n",
       "\n",
       "    .dataframe thead th {\n",
       "        text-align: right;\n",
       "    }\n",
       "</style>\n",
       "<table border=\"1\" class=\"dataframe\">\n",
       "  <thead>\n",
       "    <tr style=\"text-align: right;\">\n",
       "      <th></th>\n",
       "      <th>Survived</th>\n",
       "      <th>Pclass</th>\n",
       "      <th>Sex</th>\n",
       "      <th>Age</th>\n",
       "      <th>SibSp</th>\n",
       "      <th>Parch</th>\n",
       "      <th>Fare</th>\n",
       "      <th>Embarked</th>\n",
       "    </tr>\n",
       "  </thead>\n",
       "  <tbody>\n",
       "    <tr>\n",
       "      <th>61</th>\n",
       "      <td>1</td>\n",
       "      <td>1</td>\n",
       "      <td>female</td>\n",
       "      <td>38.0</td>\n",
       "      <td>0</td>\n",
       "      <td>0</td>\n",
       "      <td>80.0</td>\n",
       "      <td>NaN</td>\n",
       "    </tr>\n",
       "    <tr>\n",
       "      <th>829</th>\n",
       "      <td>1</td>\n",
       "      <td>1</td>\n",
       "      <td>female</td>\n",
       "      <td>62.0</td>\n",
       "      <td>0</td>\n",
       "      <td>0</td>\n",
       "      <td>80.0</td>\n",
       "      <td>NaN</td>\n",
       "    </tr>\n",
       "  </tbody>\n",
       "</table>\n",
       "</div>"
      ],
      "text/plain": [
       "     Survived  Pclass     Sex   Age  SibSp  Parch  Fare Embarked\n",
       "61          1       1  female  38.0      0      0  80.0      NaN\n",
       "829         1       1  female  62.0      0      0  80.0      NaN"
      ]
     },
     "execution_count": 12,
     "metadata": {},
     "output_type": "execute_result"
    }
   ],
   "source": [
    "#let's see the rows with missing values\n",
    "train_data[train_data.isnull().any(axis=1)]"
   ]
  },
  {
   "cell_type": "code",
   "execution_count": 13,
   "id": "f26d1e4e",
   "metadata": {
    "execution": {
     "iopub.execute_input": "2021-09-14T09:44:59.481157Z",
     "iopub.status.busy": "2021-09-14T09:44:59.480477Z",
     "iopub.status.idle": "2021-09-14T09:44:59.491415Z",
     "shell.execute_reply": "2021-09-14T09:44:59.491978Z",
     "shell.execute_reply.started": "2021-09-14T09:38:33.143936Z"
    },
    "papermill": {
     "duration": 0.063191,
     "end_time": "2021-09-14T09:44:59.492152",
     "exception": false,
     "start_time": "2021-09-14T09:44:59.428961",
     "status": "completed"
    },
    "tags": []
   },
   "outputs": [
    {
     "data": {
      "text/plain": [
       "Pclass  Embarked\n",
       "1       S           127\n",
       "        C            85\n",
       "        Q             2\n",
       "2       S           164\n",
       "        C            17\n",
       "        Q             3\n",
       "3       S           353\n",
       "        Q            72\n",
       "        C            66\n",
       "Name: Embarked, dtype: int64"
      ]
     },
     "execution_count": 13,
     "metadata": {},
     "output_type": "execute_result"
    }
   ],
   "source": [
    "train_data.groupby(\"Pclass\")[\"Embarked\"].value_counts()"
   ]
  },
  {
   "cell_type": "code",
   "execution_count": 14,
   "id": "35e2db60",
   "metadata": {
    "execution": {
     "iopub.execute_input": "2021-09-14T09:44:59.591076Z",
     "iopub.status.busy": "2021-09-14T09:44:59.590123Z",
     "iopub.status.idle": "2021-09-14T09:44:59.599278Z",
     "shell.execute_reply": "2021-09-14T09:44:59.599846Z",
     "shell.execute_reply.started": "2021-09-14T09:38:33.156100Z"
    },
    "papermill": {
     "duration": 0.060221,
     "end_time": "2021-09-14T09:44:59.600006",
     "exception": false,
     "start_time": "2021-09-14T09:44:59.539785",
     "status": "completed"
    },
    "tags": []
   },
   "outputs": [],
   "source": [
    "impute=SimpleImputer(strategy=\"most_frequent\")\n",
    "train_data[[\"Embarked\"]]=impute.fit_transform(train_data[[\"Embarked\"]])"
   ]
  },
  {
   "cell_type": "code",
   "execution_count": 15,
   "id": "0c70828c",
   "metadata": {
    "execution": {
     "iopub.execute_input": "2021-09-14T09:44:59.699500Z",
     "iopub.status.busy": "2021-09-14T09:44:59.698576Z",
     "iopub.status.idle": "2021-09-14T09:44:59.923308Z",
     "shell.execute_reply": "2021-09-14T09:44:59.923885Z",
     "shell.execute_reply.started": "2021-09-14T09:38:33.168889Z"
    },
    "papermill": {
     "duration": 0.276204,
     "end_time": "2021-09-14T09:44:59.924057",
     "exception": false,
     "start_time": "2021-09-14T09:44:59.647853",
     "status": "completed"
    },
    "tags": []
   },
   "outputs": [
    {
     "data": {
      "image/png": "[encoded data removed]",
      "text/plain": [
       "<Figure size 432x288 with 1 Axes>"
      ]
     },
     "metadata": {
      "needs_background": "light"
     },
     "output_type": "display_data"
    }
   ],
   "source": [
    "x=[\"Pclass-1\",\"Pclass-2\",\"Pclass-3\"]\n",
    "y=[38.23,29.87,25.14]\n",
    "plt.bar(x,y)\n",
    "plt.xlabel(\"PCLASS\")\n",
    "plt.ylabel(\"AGE\")\n",
    "plt.title(\"Age in different classes\")\n",
    "plt.show()"
   ]
  },
  {
   "cell_type": "code",
   "execution_count": 16,
   "id": "e980f568",
   "metadata": {
    "execution": {
     "iopub.execute_input": "2021-09-14T09:45:00.023527Z",
     "iopub.status.busy": "2021-09-14T09:45:00.022585Z",
     "iopub.status.idle": "2021-09-14T09:45:00.230116Z",
     "shell.execute_reply": "2021-09-14T09:45:00.230595Z",
     "shell.execute_reply.started": "2021-09-14T09:38:33.319260Z"
    },
    "papermill": {
     "duration": 0.25901,
     "end_time": "2021-09-14T09:45:00.230766",
     "exception": false,
     "start_time": "2021-09-14T09:44:59.971756",
     "status": "completed"
    },
    "tags": []
   },
   "outputs": [
    {
     "data": {
      "image/png": "[encoded data removed]",
      "text/plain": [
       "<Figure size 864x576 with 1 Axes>"
      ]
     },
     "metadata": {},
     "output_type": "display_data"
    }
   ],
   "source": [
    "plt.style.use(\"seaborn\")\n",
    "color=plt.cm.ocean(np.linspace(0,2,5))\n",
    "train_data[\"Survived\"].value_counts().plot.bar(color=color,figsize=(12,8))\n",
    "plt.show()"
   ]
  },
  {
   "cell_type": "code",
   "execution_count": 17,
   "id": "5cc8e3b5",
   "metadata": {
    "execution": {
     "iopub.execute_input": "2021-09-14T09:45:00.329366Z",
     "iopub.status.busy": "2021-09-14T09:45:00.328746Z",
     "iopub.status.idle": "2021-09-14T09:45:00.336902Z",
     "shell.execute_reply": "2021-09-14T09:45:00.336293Z",
     "shell.execute_reply.started": "2021-09-14T09:38:33.460916Z"
    },
    "papermill": {
     "duration": 0.058581,
     "end_time": "2021-09-14T09:45:00.337030",
     "exception": false,
     "start_time": "2021-09-14T09:45:00.278449",
     "status": "completed"
    },
    "tags": []
   },
   "outputs": [
    {
     "data": {
      "text/plain": [
       "Sex     Survived\n",
       "female  1           233\n",
       "        0            81\n",
       "male    0           468\n",
       "        1           109\n",
       "Name: Survived, dtype: int64"
      ]
     },
     "execution_count": 17,
     "metadata": {},
     "output_type": "execute_result"
    }
   ],
   "source": [
    "train_data.groupby(\"Sex\")[\"Survived\"].value_counts()"
   ]
  },
  {
   "cell_type": "code",
   "execution_count": 18,
   "id": "7df7f990",
   "metadata": {
    "execution": {
     "iopub.execute_input": "2021-09-14T09:45:00.437551Z",
     "iopub.status.busy": "2021-09-14T09:45:00.436920Z",
     "iopub.status.idle": "2021-09-14T09:45:00.652705Z",
     "shell.execute_reply": "2021-09-14T09:45:00.651950Z",
     "shell.execute_reply.started": "2021-09-14T09:38:33.475480Z"
    },
    "papermill": {
     "duration": 0.267288,
     "end_time": "2021-09-14T09:45:00.652856",
     "exception": false,
     "start_time": "2021-09-14T09:45:00.385568",
     "status": "completed"
    },
    "tags": []
   },
   "outputs": [
    {
     "data": {
      "image/png": "[encoded data removed]",
      "text/plain": [
       "<Figure size 864x576 with 1 Axes>"
      ]
     },
     "metadata": {},
     "output_type": "display_data"
    }
   ],
   "source": [
    "plt.style.use(\"seaborn\")\n",
    "color=plt.cm.ocean(np.linspace(0,2,5))\n",
    "train_data[\"Sex\"].value_counts().plot.bar(color=color,figsize=(12,8))\n",
    "plt.title(\"number of Male and Female\")\n",
    "plt.xlabel('SEX')\n",
    "plt.ylabel(\"total count\")\n",
    "plt.show()"
   ]
  },
  {
   "cell_type": "code",
   "execution_count": 19,
   "id": "ad9a7d03",
   "metadata": {
    "execution": {
     "iopub.execute_input": "2021-09-14T09:45:00.783806Z",
     "iopub.status.busy": "2021-09-14T09:45:00.757724Z",
     "iopub.status.idle": "2021-09-14T09:45:00.884336Z",
     "shell.execute_reply": "2021-09-14T09:45:00.884843Z",
     "shell.execute_reply.started": "2021-09-14T09:38:33.638152Z"
    },
    "papermill": {
     "duration": 0.181091,
     "end_time": "2021-09-14T09:45:00.885024",
     "exception": false,
     "start_time": "2021-09-14T09:45:00.703933",
     "status": "completed"
    },
    "tags": []
   },
   "outputs": [
    {
     "data": {
      "image/png": "[encoded data removed]",
      "text/plain": [
       "<Figure size 864x576 with 1 Axes>"
      ]
     },
     "metadata": {},
     "output_type": "display_data"
    }
   ],
   "source": [
    "train_data[\"Embarked\"].value_counts().plot.pie(figsize=(12,8),explode=(0.1,0.1,0.1),autopct=\"%1.2f%%\")\n",
    "plt.title(\"Embarked\",fontsize=15)\n",
    "plt.show()"
   ]
  },
  {
   "cell_type": "code",
   "execution_count": 20,
   "id": "17c0fd11",
   "metadata": {
    "execution": {
     "iopub.execute_input": "2021-09-14T09:45:01.021922Z",
     "iopub.status.busy": "2021-09-14T09:45:01.020379Z",
     "iopub.status.idle": "2021-09-14T09:45:01.104899Z",
     "shell.execute_reply": "2021-09-14T09:45:01.105386Z",
     "shell.execute_reply.started": "2021-09-14T09:38:33.746936Z"
    },
    "papermill": {
     "duration": 0.168525,
     "end_time": "2021-09-14T09:45:01.105574",
     "exception": false,
     "start_time": "2021-09-14T09:45:00.937049",
     "status": "completed"
    },
    "tags": []
   },
   "outputs": [
    {
     "data": {
      "image/png": "[encoded data removed]",
      "text/plain": [
       "<Figure size 864x576 with 1 Axes>"
      ]
     },
     "metadata": {},
     "output_type": "display_data"
    }
   ],
   "source": [
    "train_data[\"Pclass\"].value_counts().plot.pie(figsize=(12,8),explode=(0.1,0.1,0.1),autopct=\"%1.2f%%\")\n",
    "plt.title(\"Percentage of People in different class\",fontsize=15)\n",
    "plt.show()"
   ]
  },
  {
   "cell_type": "code",
   "execution_count": 21,
   "id": "37bece69",
   "metadata": {
    "execution": {
     "iopub.execute_input": "2021-09-14T09:45:01.217333Z",
     "iopub.status.busy": "2021-09-14T09:45:01.216696Z",
     "iopub.status.idle": "2021-09-14T09:45:01.380278Z",
     "shell.execute_reply": "2021-09-14T09:45:01.381353Z",
     "shell.execute_reply.started": "2021-09-14T09:38:33.869067Z"
    },
    "papermill": {
     "duration": 0.223651,
     "end_time": "2021-09-14T09:45:01.381651",
     "exception": false,
     "start_time": "2021-09-14T09:45:01.158000",
     "status": "completed"
    },
    "tags": []
   },
   "outputs": [
    {
     "data": {
      "image/png": "[encoded data removed]",
      "text/plain": [
       "<Figure size 576x396 with 1 Axes>"
      ]
     },
     "metadata": {},
     "output_type": "display_data"
    }
   ],
   "source": [
    "s=train_data.groupby(\"Sex\")[\"Survived\"].value_counts()\n",
    "color=plt.cm.ocean(np.linspace(0,2,5))\n",
    "x=[\"Female\",\"male\"]\n",
    "y=[s[0],s[3]]\n",
    "plt.bar(x,y,color=color)\n",
    "plt.xlabel('SEX')\n",
    "plt.ylabel(\"Survived\")\n",
    "plt.show()"
   ]
  },
  {
   "cell_type": "code",
   "execution_count": 22,
   "id": "4e57a669",
   "metadata": {
    "execution": {
     "iopub.execute_input": "2021-09-14T09:45:01.521278Z",
     "iopub.status.busy": "2021-09-14T09:45:01.495129Z",
     "iopub.status.idle": "2021-09-14T09:45:01.752472Z",
     "shell.execute_reply": "2021-09-14T09:45:01.752962Z",
     "shell.execute_reply.started": "2021-09-14T09:38:33.986277Z"
    },
    "papermill": {
     "duration": 0.312926,
     "end_time": "2021-09-14T09:45:01.753140",
     "exception": false,
     "start_time": "2021-09-14T09:45:01.440214",
     "status": "completed"
    },
    "tags": []
   },
   "outputs": [
    {
     "data": {
      "image/png": "[encoded data removed]",
      "text/plain": [
       "<Figure size 864x576 with 1 Axes>"
      ]
     },
     "metadata": {},
     "output_type": "display_data"
    }
   ],
   "source": [
    "#To see how age is distributed\n",
    "train_data[\"Age\"].hist(figsize=(12,8),bins=15)\n",
    "plt.show()"
   ]
  },
  {
   "cell_type": "code",
   "execution_count": 23,
   "id": "fb534b63",
   "metadata": {
    "execution": {
     "iopub.execute_input": "2021-09-14T09:45:01.865057Z",
     "iopub.status.busy": "2021-09-14T09:45:01.864453Z",
     "iopub.status.idle": "2021-09-14T09:45:02.124448Z",
     "shell.execute_reply": "2021-09-14T09:45:02.124971Z",
     "shell.execute_reply.started": "2021-09-14T09:38:34.237795Z"
    },
    "papermill": {
     "duration": 0.317481,
     "end_time": "2021-09-14T09:45:02.125135",
     "exception": false,
     "start_time": "2021-09-14T09:45:01.807654",
     "status": "completed"
    },
    "tags": []
   },
   "outputs": [
    {
     "data": {
      "image/png": "[encoded data removed]",
      "text/plain": [
       "<Figure size 864x576 with 1 Axes>"
      ]
     },
     "metadata": {},
     "output_type": "display_data"
    }
   ],
   "source": [
    "#To see how Fare is distributed\n",
    "train_data[\"Fare\"].hist(figsize=(12,8),bins=25)\n",
    "plt.show()"
   ]
  },
  {
   "cell_type": "code",
   "execution_count": 24,
   "id": "7f006d89",
   "metadata": {
    "execution": {
     "iopub.execute_input": "2021-09-14T09:45:02.235066Z",
     "iopub.status.busy": "2021-09-14T09:45:02.234463Z",
     "iopub.status.idle": "2021-09-14T09:45:02.421485Z",
     "shell.execute_reply": "2021-09-14T09:45:02.421999Z",
     "shell.execute_reply.started": "2021-09-14T09:38:34.476864Z"
    },
    "papermill": {
     "duration": 0.243953,
     "end_time": "2021-09-14T09:45:02.422168",
     "exception": false,
     "start_time": "2021-09-14T09:45:02.178215",
     "status": "completed"
    },
    "tags": []
   },
   "outputs": [
    {
     "data": {
      "image/png": "[encoded data removed]",
      "text/plain": [
       "<Figure size 576x396 with 1 Axes>"
      ]
     },
     "metadata": {},
     "output_type": "display_data"
    }
   ],
   "source": [
    "e=train_data.groupby(\"Embarked\")[\"Fare\"].mean()\n",
    "color=plt.cm.ocean(np.linspace(0,2,7))\n",
    "x=[\"C_Embark\",\"Q_Embark\",\"S_Embark\"]\n",
    "y=[e[0],e[1],e[2]]\n",
    "plt.bar(x,y,color=color)\n",
    "plt.xlabel(\"Embarked\",fontsize=(15))\n",
    "plt.ylabel(\"Fare\",fontsize=(15))\n",
    "plt.show()"
   ]
  },
  {
   "cell_type": "code",
   "execution_count": 25,
   "id": "261d6b0d",
   "metadata": {
    "execution": {
     "iopub.execute_input": "2021-09-14T09:45:02.538028Z",
     "iopub.status.busy": "2021-09-14T09:45:02.536988Z",
     "iopub.status.idle": "2021-09-14T09:45:03.570011Z",
     "shell.execute_reply": "2021-09-14T09:45:03.570486Z",
     "shell.execute_reply.started": "2021-09-14T09:38:34.655917Z"
    },
    "papermill": {
     "duration": 1.092988,
     "end_time": "2021-09-14T09:45:03.570662",
     "exception": false,
     "start_time": "2021-09-14T09:45:02.477674",
     "status": "completed"
    },
    "tags": []
   },
   "outputs": [
    {
     "data": {
      "application/vnd.plotly.v1+json": {
       "config": {
        "plotlyServerURL": "https://plot.ly"
       },
       "data": [
        {
         "branchvalues": "total",
         "domain": {
          "x": [
           0.0,
           1.0
          ],
          "y": [
           0.0,
           1.0
          ]
         },
         "hovertemplate": "labels=%{label}<br>count=%{value}<br>parent=%{parent}<br>id=%{id}<extra></extra>",
         "ids": [
          "1/female/0",
          "2/female/0",
          "3/female/0",
          "1/male/0",
          "2/male/0",
          "3/male/0",
          "1/female/1",
          "2/female/1",
          "3/female/1",
          "1/male/1",
          "2/male/1",
          "3/male/1",
          "1/female",
          "2/female",
          "3/female",
          "1/male",
          "2/male",
          "3/male",
          "1",
          "2",
          "3"
         ],
         "labels": [
          "0",
          "0",
          "0",
          "0",
          "0",
          "0",
          "1",
          "1",
          "1",
          "1",
          "1",
          "1",
          "female",
          "female",
          "female",
          "male",
          "male",
          "male",
          "1",
          "2",
          "3"
         ],
         "name": "",
         "parents": [
          "1/female",
          "2/female",
          "3/female",
          "1/male",
          "2/male",
          "3/male",
          "1/female",
          "2/female",
          "3/female",
          "1/male",
          "2/male",
          "3/male",
          "1",
          "2",
          "3",
          "1",
          "2",
          "3",
          "",
          "",
          ""
         ],
         "type": "sunburst",
         "values": [
          3,
          6,
          72,
          77,
          91,
          300,
          91,
          70,
          72,
          45,
          17,
          47,
          94,
          76,
          144,
          122,
          108,
          347,
          216,
          184,
          491
         ]
        }
       ],
       "layout": {
        "legend": {
         "tracegroupgap": 0
        },
        "template": {
         "data": {
          "bar": [
           {
            "error_x": {
             "color": "#2a3f5f"
            },
            "error_y": {
             "color": "#2a3f5f"
            },
            "marker": {
             "line": {
              "color": "#E5ECF6",
              "width": 0.5
             },
             "pattern": {
              "fillmode": "overlay",
              "size": 10,
              "solidity": 0.2
             }
            },
            "type": "bar"
           }
          ],
          "barpolar": [
           {
            "marker": {
             "line": {
              "color": "#E5ECF6",
              "width": 0.5
             },
             "pattern": {
              "fillmode": "overlay",
              "size": 10,
              "solidity": 0.2
             }
            },
            "type": "barpolar"
           }
          ],
          "carpet": [
           {
            "aaxis": {
             "endlinecolor": "#2a3f5f",
             "gridcolor": "white",
             "linecolor": "white",
             "minorgridcolor": "white",
             "startlinecolor": "#2a3f5f"
            },
            "baxis": {
             "endlinecolor": "#2a3f5f",
             "gridcolor": "white",
             "linecolor": "white",
             "minorgridcolor": "white",
             "startlinecolor": "#2a3f5f"
            },
            "type": "carpet"
           }
          ],
          "choropleth": [
           {
            "colorbar": {
             "outlinewidth": 0,
             "ticks": ""
            },
            "type": "choropleth"
           }
          ],
          "contour": [
           {
            "colorbar": {
             "outlinewidth": 0,
             "ticks": ""
            },
            "colorscale": [
             [
              0.0,
              "#0d0887"
             ],
             [
              0.1111111111111111,
              "#46039f"
             ],
             [
              0.2222222222222222,
              "#7201a8"
             ],
             [
              0.3333333333333333,
              "#9c179e"
             ],
             [
              0.4444444444444444,
              "#bd3786"
             ],
             [
              0.5555555555555556,
              "#d8576b"
             ],
             [
              0.6666666666666666,
              "#ed7953"
             ],
             [
              0.7777777777777778,
              "#fb9f3a"
             ],
             [
              0.8888888888888888,
              "#fdca26"
             ],
             [
              1.0,
              "#f0f921"
             ]
            ],
            "type": "contour"
           }
          ],
          "contourcarpet": [
           {
            "colorbar": {
             "outlinewidth": 0,
             "ticks": ""
            },
            "type": "contourcarpet"
           }
          ],
          "heatmap": [
           {
            "colorbar": {
             "outlinewidth": 0,
             "ticks": ""
            },
            "colorscale": [
             [
              0.0,
              "#0d0887"
             ],
             [
              0.1111111111111111,
              "#46039f"
             ],
             [
              0.2222222222222222,
              "#7201a8"
             ],
             [
              0.3333333333333333,
              "#9c179e"
             ],
             [
              0.4444444444444444,
              "#bd3786"
             ],
             [
              0.5555555555555556,
              "#d8576b"
             ],
             [
              0.6666666666666666,
              "#ed7953"
             ],
             [
              0.7777777777777778,
              "#fb9f3a"
             ],
             [
              0.8888888888888888,
              "#fdca26"
             ],
             [
              1.0,
              "#f0f921"
             ]
            ],
            "type": "heatmap"
           }
          ],
          "heatmapgl": [
           {
            "colorbar": {
             "outlinewidth": 0,
             "ticks": ""
            },
            "colorscale": [
             [
              0.0,
              "#0d0887"
             ],
             [
              0.1111111111111111,
              "#46039f"
             ],
             [
              0.2222222222222222,
              "#7201a8"
             ],
             [
              0.3333333333333333,
              "#9c179e"
             ],
             [
              0.4444444444444444,
              "#bd3786"
             ],
             [
              0.5555555555555556,
              "#d8576b"
             ],
             [
              0.6666666666666666,
              "#ed7953"
             ],
             [
              0.7777777777777778,
              "#fb9f3a"
             ],
             [
              0.8888888888888888,
              "#fdca26"
             ],
             [
              1.0,
              "#f0f921"
             ]
            ],
            "type": "heatmapgl"
           }
          ],
          "histogram": [
           {
            "marker": {
             "pattern": {
              "fillmode": "overlay",
              "size": 10,
              "solidity": 0.2
             }
            },
            "type": "histogram"
           }
          ],
          "histogram2d": [
           {
            "colorbar": {
             "outlinewidth": 0,
             "ticks": ""
            },
            "colorscale": [
             [
              0.0,
              "#0d0887"
             ],
             [
              0.1111111111111111,
              "#46039f"
             ],
             [
              0.2222222222222222,
              "#7201a8"
             ],
             [
              0.3333333333333333,
              "#9c179e"
             ],
             [
              0.4444444444444444,
              "#bd3786"
             ],
             [
              0.5555555555555556,
              "#d8576b"
             ],
             [
              0.6666666666666666,
              "#ed7953"
             ],
             [
              0.7777777777777778,
              "#fb9f3a"
             ],
             [
              0.8888888888888888,
              "#fdca26"
             ],
             [
              1.0,
              "#f0f921"
             ]
            ],
            "type": "histogram2d"
           }
          ],
          "histogram2dcontour": [
           {
            "colorbar": {
             "outlinewidth": 0,
             "ticks": ""
            },
            "colorscale": [
             [
              0.0,
              "#0d0887"
             ],
             [
              0.1111111111111111,
              "#46039f"
             ],
             [
              0.2222222222222222,
              "#7201a8"
             ],
             [
              0.3333333333333333,
              "#9c179e"
             ],
             [
              0.4444444444444444,
              "#bd3786"
             ],
             [
              0.5555555555555556,
              "#d8576b"
             ],
             [
              0.6666666666666666,
              "#ed7953"
             ],
             [
              0.7777777777777778,
              "#fb9f3a"
             ],
             [
              0.8888888888888888,
              "#fdca26"
             ],
             [
              1.0,
              "#f0f921"
             ]
            ],
            "type": "histogram2dcontour"
           }
          ],
          "mesh3d": [
           {
            "colorbar": {
             "outlinewidth": 0,
             "ticks": ""
            },
            "type": "mesh3d"
           }
          ],
          "parcoords": [
           {
            "line": {
             "colorbar": {
              "outlinewidth": 0,
              "ticks": ""
             }
            },
            "type": "parcoords"
           }
          ],
          "pie": [
           {
            "automargin": true,
            "type": "pie"
           }
          ],
          "scatter": [
           {
            "marker": {
             "colorbar": {
              "outlinewidth": 0,
              "ticks": ""
             }
            },
            "type": "scatter"
           }
          ],
          "scatter3d": [
           {
            "line": {
             "colorbar": {
              "outlinewidth": 0,
              "ticks": ""
             }
            },
            "marker": {
             "colorbar": {
              "outlinewidth": 0,
              "ticks": ""
             }
            },
            "type": "scatter3d"
           }
          ],
          "scattercarpet": [
           {
            "marker": {
             "colorbar": {
              "outlinewidth": 0,
              "ticks": ""
             }
            },
            "type": "scattercarpet"
           }
          ],
          "scattergeo": [
           {
            "marker": {
             "colorbar": {
              "outlinewidth": 0,
              "ticks": ""
             }
            },
            "type": "scattergeo"
           }
          ],
          "scattergl": [
           {
            "marker": {
             "colorbar": {
              "outlinewidth": 0,
              "ticks": ""
             }
            },
            "type": "scattergl"
           }
          ],
          "scattermapbox": [
           {
            "marker": {
             "colorbar": {
              "outlinewidth": 0,
              "ticks": ""
             }
            },
            "type": "scattermapbox"
           }
          ],
          "scatterpolar": [
           {
            "marker": {
             "colorbar": {
              "outlinewidth": 0,
              "ticks": ""
             }
            },
            "type": "scatterpolar"
           }
          ],
          "scatterpolargl": [
           {
            "marker": {
             "colorbar": {
              "outlinewidth": 0,
              "ticks": ""
             }
            },
            "type": "scatterpolargl"
           }
          ],
          "scatterternary": [
           {
            "marker": {
             "colorbar": {
              "outlinewidth": 0,
              "ticks": ""
             }
            },
            "type": "scatterternary"
           }
          ],
          "surface": [
           {
            "colorbar": {
             "outlinewidth": 0,
             "ticks": ""
            },
            "colorscale": [
             [
              0.0,
              "#0d0887"
             ],
             [
              0.1111111111111111,
              "#46039f"
             ],
             [
              0.2222222222222222,
              "#7201a8"
             ],
             [
              0.3333333333333333,
              "#9c179e"
             ],
             [
              0.4444444444444444,
              "#bd3786"
             ],
             [
              0.5555555555555556,
              "#d8576b"
             ],
             [
              0.6666666666666666,
              "#ed7953"
             ],
             [
              0.7777777777777778,
              "#fb9f3a"
             ],
             [
              0.8888888888888888,
              "#fdca26"
             ],
             [
              1.0,
              "#f0f921"
             ]
            ],
            "type": "surface"
           }
          ],
          "table": [
           {
            "cells": {
             "fill": {
              "color": "#EBF0F8"
             },
             "line": {
              "color": "white"
             }
            },
            "header": {
             "fill": {
              "color": "#C8D4E3"
             },
             "line": {
              "color": "white"
             }
            },
            "type": "table"
           }
          ]
         },
         "layout": {
          "annotationdefaults": {
           "arrowcolor": "#2a3f5f",
           "arrowhead": 0,
           "arrowwidth": 1
          },
          "autotypenumbers": "strict",
          "coloraxis": {
           "colorbar": {
            "outlinewidth": 0,
            "ticks": ""
           }
          },
          "colorscale": {
           "diverging": [
            [
             0,
             "#8e0152"
            ],
            [
             0.1,
             "#c51b7d"
            ],
            [
             0.2,
             "#de77ae"
            ],
            [
             0.3,
             "#f1b6da"
            ],
            [
             0.4,
             "#fde0ef"
            ],
            [
             0.5,
             "#f7f7f7"
            ],
            [
             0.6,
             "#e6f5d0"
            ],
            [
             0.7,
             "#b8e186"
            ],
            [
             0.8,
             "#7fbc41"
            ],
            [
             0.9,
             "#4d9221"
            ],
            [
             1,
             "#276419"
            ]
           ],
           "sequential": [
            [
             0.0,
             "#0d0887"
            ],
            [
             0.1111111111111111,
             "#46039f"
            ],
            [
             0.2222222222222222,
             "#7201a8"
            ],
            [
             0.3333333333333333,
             "#9c179e"
            ],
            [
             0.4444444444444444,
             "#bd3786"
            ],
            [
             0.5555555555555556,
             "#d8576b"
            ],
            [
             0.6666666666666666,
             "#ed7953"
            ],
            [
             0.7777777777777778,
             "#fb9f3a"
            ],
            [
             0.8888888888888888,
             "#fdca26"
            ],
            [
             1.0,
             "#f0f921"
            ]
           ],
           "sequentialminus": [
            [
             0.0,
             "#0d0887"
            ],
            [
             0.1111111111111111,
             "#46039f"
            ],
            [
             0.2222222222222222,
             "#7201a8"
            ],
            [
             0.3333333333333333,
             "#9c179e"
            ],
            [
             0.4444444444444444,
             "#bd3786"
            ],
            [
             0.5555555555555556,
             "#d8576b"
            ],
            [
             0.6666666666666666,
             "#ed7953"
            ],
            [
             0.7777777777777778,
             "#fb9f3a"
            ],
            [
             0.8888888888888888,
             "#fdca26"
            ],
            [
             1.0,
             "#f0f921"
            ]
           ]
          },
          "colorway": [
           "#636efa",
           "#EF553B",
           "#00cc96",
           "#ab63fa",
           "#FFA15A",
           "#19d3f3",
           "#FF6692",
           "#B6E880",
           "#FF97FF",
           "#FECB52"
          ],
          "font": {
           "color": "#2a3f5f"
          },
          "geo": {
           "bgcolor": "white",
           "lakecolor": "white",
           "landcolor": "#E5ECF6",
           "showlakes": true,
           "showland": true,
           "subunitcolor": "white"
          },
          "hoverlabel": {
           "align": "left"
          },
          "hovermode": "closest",
          "mapbox": {
           "style": "light"
          },
          "paper_bgcolor": "white",
          "plot_bgcolor": "#E5ECF6",
          "polar": {
           "angularaxis": {
            "gridcolor": "white",
            "linecolor": "white",
            "ticks": ""
           },
           "bgcolor": "#E5ECF6",
           "radialaxis": {
            "gridcolor": "white",
            "linecolor": "white",
            "ticks": ""
           }
          },
          "scene": {
           "xaxis": {
            "backgroundcolor": "#E5ECF6",
            "gridcolor": "white",
            "gridwidth": 2,
            "linecolor": "white",
            "showbackground": true,
            "ticks": "",
            "zerolinecolor": "white"
           },
           "yaxis": {
            "backgroundcolor": "#E5ECF6",
            "gridcolor": "white",
            "gridwidth": 2,
            "linecolor": "white",
            "showbackground": true,
            "ticks": "",
            "zerolinecolor": "white"
           },
           "zaxis": {
            "backgroundcolor": "#E5ECF6",
            "gridcolor": "white",
            "gridwidth": 2,
            "linecolor": "white",
            "showbackground": true,
            "ticks": "",
            "zerolinecolor": "white"
           }
          },
          "shapedefaults": {
           "line": {
            "color": "#2a3f5f"
           }
          },
          "ternary": {
           "aaxis": {
            "gridcolor": "white",
            "linecolor": "white",
            "ticks": ""
           },
           "baxis": {
            "gridcolor": "white",
            "linecolor": "white",
            "ticks": ""
           },
           "bgcolor": "#E5ECF6",
           "caxis": {
            "gridcolor": "white",
            "linecolor": "white",
            "ticks": ""
           }
          },
          "title": {
           "x": 0.05
          },
          "xaxis": {
           "automargin": true,
           "gridcolor": "white",
           "linecolor": "white",
           "ticks": "",
           "title": {
            "standoff": 15
           },
           "zerolinecolor": "white",
           "zerolinewidth": 2
          },
          "yaxis": {
           "automargin": true,
           "gridcolor": "white",
           "linecolor": "white",
           "ticks": "",
           "title": {
            "standoff": 15
           },
           "zerolinecolor": "white",
           "zerolinewidth": 2
          }
         }
        },
        "title": {
         "text": "Count of Survived Based on Pclass and Sex"
        }
       }
      },
      "text/html": [
       "<div>                            <div id=\"8b3fa90f-b4b2-417a-bf6c-52ce3c14e7c1\" class=\"plotly-graph-div\" style=\"height:525px; width:100%;\"></div>            <script type=\"text/javascript\">                require([\"plotly\"], function(Plotly) {                    window.PLOTLYENV=window.PLOTLYENV || {};                                    if (document.getElementById(\"8b3fa90f-b4b2-417a-bf6c-52ce3c14e7c1\")) {                    Plotly.newPlot(                        \"8b3fa90f-b4b2-417a-bf6c-52ce3c14e7c1\",                        [{\"branchvalues\":\"total\",\"domain\":{\"x\":[0.0,1.0],\"y\":[0.0,1.0]},\"hovertemplate\":\"labels=%{label}<br>count=%{value}<br>parent=%{parent}<br>id=%{id}<extra></extra>\",\"ids\":[\"1/female/0\",\"2/female/0\",\"3/female/0\",\"1/male/0\",\"2/male/0\",\"3/male/0\",\"1/female/1\",\"2/female/1\",\"3/female/1\",\"1/male/1\",\"2/male/1\",\"3/male/1\",\"1/female\",\"2/female\",\"3/female\",\"1/male\",\"2/male\",\"3/male\",\"1\",\"2\",\"3\"],\"labels\":[\"0\",\"0\",\"0\",\"0\",\"0\",\"0\",\"1\",\"1\",\"1\",\"1\",\"1\",\"1\",\"female\",\"female\",\"female\",\"male\",\"male\",\"male\",\"1\",\"2\",\"3\"],\"name\":\"\",\"parents\":[\"1/female\",\"2/female\",\"3/female\",\"1/male\",\"2/male\",\"3/male\",\"1/female\",\"2/female\",\"3/female\",\"1/male\",\"2/male\",\"3/male\",\"1\",\"2\",\"3\",\"1\",\"2\",\"3\",\"\",\"\",\"\"],\"type\":\"sunburst\",\"values\":[3,6,72,77,91,300,91,70,72,45,17,47,94,76,144,122,108,347,216,184,491]}],                        {\"legend\":{\"tracegroupgap\":0},\"template\":{\"data\":{\"bar\":[{\"error_x\":{\"color\":\"#2a3f5f\"},\"error_y\":{\"color\":\"#2a3f5f\"},\"marker\":{\"line\":{\"color\":\"#E5ECF6\",\"width\":0.5},\"pattern\":{\"fillmode\":\"overlay\",\"size\":10,\"solidity\":0.2}},\"type\":\"bar\"}],\"barpolar\":[{\"marker\":{\"line\":{\"color\":\"#E5ECF6\",\"width\":0.5},\"pattern\":{\"fillmode\":\"overlay\",\"size\":10,\"solidity\":0.2}},\"type\":\"barpolar\"}],\"carpet\":[{\"aaxis\":{\"endlinecolor\":\"#2a3f5f\",\"gridcolor\":\"white\",\"linecolor\":\"white\",\"minorgridcolor\":\"white\",\"startlinecolor\":\"#2a3f5f\"},\"baxis\":{\"endlinecolor\":\"#2a3f5f\",\"gridcolor\":\"white\",\"linecolor\":\"white\",\"minorgridcolor\":\"white\",\"startlinecolor\":\"#2a3f5f\"},\"type\":\"carpet\"}],\"choropleth\":[{\"colorbar\":{\"outlinewidth\":0,\"ticks\":\"\"},\"type\":\"choropleth\"}],\"contour\":[{\"colorbar\":{\"outlinewidth\":0,\"ticks\":\"\"},\"colorscale\":[[0.0,\"#0d0887\"],[0.1111111111111111,\"#46039f\"],[0.2222222222222222,\"#7201a8\"],[0.3333333333333333,\"#9c179e\"],[0.4444444444444444,\"#bd3786\"],[0.5555555555555556,\"#d8576b\"],[0.6666666666666666,\"#ed7953\"],[0.7777777777777778,\"#fb9f3a\"],[0.8888888888888888,\"#fdca26\"],[1.0,\"#f0f921\"]],\"type\":\"contour\"}],\"contourcarpet\":[{\"colorbar\":{\"outlinewidth\":0,\"ticks\":\"\"},\"type\":\"contourcarpet\"}],\"heatmap\":[{\"colorbar\":{\"outlinewidth\":0,\"ticks\":\"\"},\"colorscale\":[[0.0,\"#0d0887\"],[0.1111111111111111,\"#46039f\"],[0.2222222222222222,\"#7201a8\"],[0.3333333333333333,\"#9c179e\"],[0.4444444444444444,\"#bd3786\"],[0.5555555555555556,\"#d8576b\"],[0.6666666666666666,\"#ed7953\"],[0.7777777777777778,\"#fb9f3a\"],[0.8888888888888888,\"#fdca26\"],[1.0,\"#f0f921\"]],\"type\":\"heatmap\"}],\"heatmapgl\":[{\"colorbar\":{\"outlinewidth\":0,\"ticks\":\"\"},\"colorscale\":[[0.0,\"#0d0887\"],[0.1111111111111111,\"#46039f\"],[0.2222222222222222,\"#7201a8\"],[0.3333333333333333,\"#9c179e\"],[0.4444444444444444,\"#bd3786\"],[0.5555555555555556,\"#d8576b\"],[0.6666666666666666,\"#ed7953\"],[0.7777777777777778,\"#fb9f3a\"],[0.8888888888888888,\"#fdca26\"],[1.0,\"#f0f921\"]],\"type\":\"heatmapgl\"}],\"histogram\":[{\"marker\":{\"pattern\":{\"fillmode\":\"overlay\",\"size\":10,\"solidity\":0.2}},\"type\":\"histogram\"}],\"histogram2d\":[{\"colorbar\":{\"outlinewidth\":0,\"ticks\":\"\"},\"colorscale\":[[0.0,\"#0d0887\"],[0.1111111111111111,\"#46039f\"],[0.2222222222222222,\"#7201a8\"],[0.3333333333333333,\"#9c179e\"],[0.4444444444444444,\"#bd3786\"],[0.5555555555555556,\"#d8576b\"],[0.6666666666666666,\"#ed7953\"],[0.7777777777777778,\"#fb9f3a\"],[0.8888888888888888,\"#fdca26\"],[1.0,\"#f0f921\"]],\"type\":\"histogram2d\"}],\"histogram2dcontour\":[{\"colorbar\":{\"outlinewidth\":0,\"ticks\":\"\"},\"colorscale\":[[0.0,\"#0d0887\"],[0.1111111111111111,\"#46039f\"],[0.2222222222222222,\"#7201a8\"],[0.3333333333333333,\"#9c179e\"],[0.4444444444444444,\"#bd3786\"],[0.5555555555555556,\"#d8576b\"],[0.6666666666666666,\"#ed7953\"],[0.7777777777777778,\"#fb9f3a\"],[0.8888888888888888,\"#fdca26\"],[1.0,\"#f0f921\"]],\"type\":\"histogram2dcontour\"}],\"mesh3d\":[{\"colorbar\":{\"outlinewidth\":0,\"ticks\":\"\"},\"type\":\"mesh3d\"}],\"parcoords\":[{\"line\":{\"colorbar\":{\"outlinewidth\":0,\"ticks\":\"\"}},\"type\":\"parcoords\"}],\"pie\":[{\"automargin\":true,\"type\":\"pie\"}],\"scatter\":[{\"marker\":{\"colorbar\":{\"outlinewidth\":0,\"ticks\":\"\"}},\"type\":\"scatter\"}],\"scatter3d\":[{\"line\":{\"colorbar\":{\"outlinewidth\":0,\"ticks\":\"\"}},\"marker\":{\"colorbar\":{\"outlinewidth\":0,\"ticks\":\"\"}},\"type\":\"scatter3d\"}],\"scattercarpet\":[{\"marker\":{\"colorbar\":{\"outlinewidth\":0,\"ticks\":\"\"}},\"type\":\"scattercarpet\"}],\"scattergeo\":[{\"marker\":{\"colorbar\":{\"outlinewidth\":0,\"ticks\":\"\"}},\"type\":\"scattergeo\"}],\"scattergl\":[{\"marker\":{\"colorbar\":{\"outlinewidth\":0,\"ticks\":\"\"}},\"type\":\"scattergl\"}],\"scattermapbox\":[{\"marker\":{\"colorbar\":{\"outlinewidth\":0,\"ticks\":\"\"}},\"type\":\"scattermapbox\"}],\"scatterpolar\":[{\"marker\":{\"colorbar\":{\"outlinewidth\":0,\"ticks\":\"\"}},\"type\":\"scatterpolar\"}],\"scatterpolargl\":[{\"marker\":{\"colorbar\":{\"outlinewidth\":0,\"ticks\":\"\"}},\"type\":\"scatterpolargl\"}],\"scatterternary\":[{\"marker\":{\"colorbar\":{\"outlinewidth\":0,\"ticks\":\"\"}},\"type\":\"scatterternary\"}],\"surface\":[{\"colorbar\":{\"outlinewidth\":0,\"ticks\":\"\"},\"colorscale\":[[0.0,\"#0d0887\"],[0.1111111111111111,\"#46039f\"],[0.2222222222222222,\"#7201a8\"],[0.3333333333333333,\"#9c179e\"],[0.4444444444444444,\"#bd3786\"],[0.5555555555555556,\"#d8576b\"],[0.6666666666666666,\"#ed7953\"],[0.7777777777777778,\"#fb9f3a\"],[0.8888888888888888,\"#fdca26\"],[1.0,\"#f0f921\"]],\"type\":\"surface\"}],\"table\":[{\"cells\":{\"fill\":{\"color\":\"#EBF0F8\"},\"line\":{\"color\":\"white\"}},\"header\":{\"fill\":{\"color\":\"#C8D4E3\"},\"line\":{\"color\":\"white\"}},\"type\":\"table\"}]},\"layout\":{\"annotationdefaults\":{\"arrowcolor\":\"#2a3f5f\",\"arrowhead\":0,\"arrowwidth\":1},\"autotypenumbers\":\"strict\",\"coloraxis\":{\"colorbar\":{\"outlinewidth\":0,\"ticks\":\"\"}},\"colorscale\":{\"diverging\":[[0,\"#8e0152\"],[0.1,\"#c51b7d\"],[0.2,\"#de77ae\"],[0.3,\"#f1b6da\"],[0.4,\"#fde0ef\"],[0.5,\"#f7f7f7\"],[0.6,\"#e6f5d0\"],[0.7,\"#b8e186\"],[0.8,\"#7fbc41\"],[0.9,\"#4d9221\"],[1,\"#276419\"]],\"sequential\":[[0.0,\"#0d0887\"],[0.1111111111111111,\"#46039f\"],[0.2222222222222222,\"#7201a8\"],[0.3333333333333333,\"#9c179e\"],[0.4444444444444444,\"#bd3786\"],[0.5555555555555556,\"#d8576b\"],[0.6666666666666666,\"#ed7953\"],[0.7777777777777778,\"#fb9f3a\"],[0.8888888888888888,\"#fdca26\"],[1.0,\"#f0f921\"]],\"sequentialminus\":[[0.0,\"#0d0887\"],[0.1111111111111111,\"#46039f\"],[0.2222222222222222,\"#7201a8\"],[0.3333333333333333,\"#9c179e\"],[0.4444444444444444,\"#bd3786\"],[0.5555555555555556,\"#d8576b\"],[0.6666666666666666,\"#ed7953\"],[0.7777777777777778,\"#fb9f3a\"],[0.8888888888888888,\"#fdca26\"],[1.0,\"#f0f921\"]]},\"colorway\":[\"#636efa\",\"#EF553B\",\"#00cc96\",\"#ab63fa\",\"#FFA15A\",\"#19d3f3\",\"#FF6692\",\"#B6E880\",\"#FF97FF\",\"#FECB52\"],\"font\":{\"color\":\"#2a3f5f\"},\"geo\":{\"bgcolor\":\"white\",\"lakecolor\":\"white\",\"landcolor\":\"#E5ECF6\",\"showlakes\":true,\"showland\":true,\"subunitcolor\":\"white\"},\"hoverlabel\":{\"align\":\"left\"},\"hovermode\":\"closest\",\"mapbox\":{\"style\":\"light\"},\"paper_bgcolor\":\"white\",\"plot_bgcolor\":\"#E5ECF6\",\"polar\":{\"angularaxis\":{\"gridcolor\":\"white\",\"linecolor\":\"white\",\"ticks\":\"\"},\"bgcolor\":\"#E5ECF6\",\"radialaxis\":{\"gridcolor\":\"white\",\"linecolor\":\"white\",\"ticks\":\"\"}},\"scene\":{\"xaxis\":{\"backgroundcolor\":\"#E5ECF6\",\"gridcolor\":\"white\",\"gridwidth\":2,\"linecolor\":\"white\",\"showbackground\":true,\"ticks\":\"\",\"zerolinecolor\":\"white\"},\"yaxis\":{\"backgroundcolor\":\"#E5ECF6\",\"gridcolor\":\"white\",\"gridwidth\":2,\"linecolor\":\"white\",\"showbackground\":true,\"ticks\":\"\",\"zerolinecolor\":\"white\"},\"zaxis\":{\"backgroundcolor\":\"#E5ECF6\",\"gridcolor\":\"white\",\"gridwidth\":2,\"linecolor\":\"white\",\"showbackground\":true,\"ticks\":\"\",\"zerolinecolor\":\"white\"}},\"shapedefaults\":{\"line\":{\"color\":\"#2a3f5f\"}},\"ternary\":{\"aaxis\":{\"gridcolor\":\"white\",\"linecolor\":\"white\",\"ticks\":\"\"},\"baxis\":{\"gridcolor\":\"white\",\"linecolor\":\"white\",\"ticks\":\"\"},\"bgcolor\":\"#E5ECF6\",\"caxis\":{\"gridcolor\":\"white\",\"linecolor\":\"white\",\"ticks\":\"\"}},\"title\":{\"x\":0.05},\"xaxis\":{\"automargin\":true,\"gridcolor\":\"white\",\"linecolor\":\"white\",\"ticks\":\"\",\"title\":{\"standoff\":15},\"zerolinecolor\":\"white\",\"zerolinewidth\":2},\"yaxis\":{\"automargin\":true,\"gridcolor\":\"white\",\"linecolor\":\"white\",\"ticks\":\"\",\"title\":{\"standoff\":15},\"zerolinecolor\":\"white\",\"zerolinewidth\":2}}},\"title\":{\"text\":\"Count of Survived Based on Pclass and Sex\"}},                        {\"responsive\": true}                    ).then(function(){\n",
       "                            \n",
       "var gd = document.getElementById('8b3fa90f-b4b2-417a-bf6c-52ce3c14e7c1');\n",
       "var x = new MutationObserver(function (mutations, observer) {{\n",
       "        var display = window.getComputedStyle(gd).display;\n",
       "        if (!display || display === 'none') {{\n",
       "            console.log([gd, 'removed!']);\n",
       "            Plotly.purge(gd);\n",
       "            observer.disconnect();\n",
       "        }}\n",
       "}});\n",
       "\n",
       "// Listen for the removal of the full notebook cells\n",
       "var notebookContainer = gd.closest('#notebook-container');\n",
       "if (notebookContainer) {{\n",
       "    x.observe(notebookContainer, {childList: true});\n",
       "}}\n",
       "\n",
       "// Listen for the clearing of the current output cell\n",
       "var outputEl = gd.closest('.output');\n",
       "if (outputEl) {{\n",
       "    x.observe(outputEl, {childList: true});\n",
       "}}\n",
       "\n",
       "                        })                };                });            </script>        </div>"
      ]
     },
     "metadata": {},
     "output_type": "display_data"
    }
   ],
   "source": [
    "fig=px.sunburst(train_data.groupby([\"Pclass\",\"Sex\",\"Survived\"]).size().reset_index(name=\"count\"),path=[\"Pclass\",\"Sex\",\"Survived\"],values=\"count\",title=\"Count of Survived Based on Pclass and Sex\")\n",
    "fig.show()"
   ]
  },
  {
   "cell_type": "code",
   "execution_count": 26,
   "id": "64aee62c",
   "metadata": {
    "execution": {
     "iopub.execute_input": "2021-09-14T09:45:03.697002Z",
     "iopub.status.busy": "2021-09-14T09:45:03.696332Z",
     "iopub.status.idle": "2021-09-14T09:45:03.710775Z",
     "shell.execute_reply": "2021-09-14T09:45:03.711264Z",
     "shell.execute_reply.started": "2021-09-14T09:38:34.775010Z"
    },
    "papermill": {
     "duration": 0.078629,
     "end_time": "2021-09-14T09:45:03.711440",
     "exception": false,
     "start_time": "2021-09-14T09:45:03.632811",
     "status": "completed"
    },
    "tags": []
   },
   "outputs": [],
   "source": [
    "\n",
    "sex=pd.get_dummies(train_data[\"Sex\"],drop_first=True)\n",
    "Embark=pd.get_dummies(train_data[\"Embarked\"],drop_first=True)\n",
    "\n",
    "train_data=train_data.drop(columns=[\"Sex\",\"Embarked\"],axis=1)\n",
    "train_data=pd.concat([train_data,sex,Embark],axis=1)\n",
    "\n",
    "X=train_data.iloc[:,1:].values\n",
    "y=train_data.iloc[:,0].values\n",
    "\n",
    "sc=StandardScaler()\n",
    "X=sc.fit_transform(X)\n",
    "\n",
    "X_train,X_test,y_train,y_test=train_test_split(X,y,test_size=0.2,random_state=100)\n",
    "\n",
    "rfc=RandomForestClassifier(max_depth=10,random_state=1)"
   ]
  },
  {
   "cell_type": "code",
   "execution_count": 27,
   "id": "bda369a1",
   "metadata": {
    "execution": {
     "iopub.execute_input": "2021-09-14T09:45:03.851088Z",
     "iopub.status.busy": "2021-09-14T09:45:03.840572Z",
     "iopub.status.idle": "2021-09-14T09:45:04.068784Z",
     "shell.execute_reply": "2021-09-14T09:45:04.069289Z",
     "shell.execute_reply.started": "2021-09-14T09:38:34.792449Z"
    },
    "papermill": {
     "duration": 0.296083,
     "end_time": "2021-09-14T09:45:04.069456",
     "exception": false,
     "start_time": "2021-09-14T09:45:03.773373",
     "status": "completed"
    },
    "tags": []
   },
   "outputs": [
    {
     "name": "stdout",
     "output_type": "stream",
     "text": [
      "     Actual  pred\n",
      "0         0     1\n",
      "1         1     0\n",
      "2         1     0\n",
      "3         1     1\n",
      "4         0     0\n",
      "..      ...   ...\n",
      "174       1     1\n",
      "175       1     1\n",
      "176       0     0\n",
      "177       0     0\n",
      "178       0     1\n",
      "\n",
      "[179 rows x 2 columns]\n"
     ]
    }
   ],
   "source": [
    "rfc.fit(X_train,y_train)\n",
    "pred=rfc.predict(X_test)\n",
    "pred_df=pd.DataFrame({\"Actual\":y_test,\"pred\":pred})\n",
    "print(pred_df)"
   ]
  },
  {
   "cell_type": "code",
   "execution_count": 28,
   "id": "706a9712",
   "metadata": {
    "execution": {
     "iopub.execute_input": "2021-09-14T09:45:04.192834Z",
     "iopub.status.busy": "2021-09-14T09:45:04.192183Z",
     "iopub.status.idle": "2021-09-14T09:45:04.199601Z",
     "shell.execute_reply": "2021-09-14T09:45:04.200118Z",
     "shell.execute_reply.started": "2021-09-14T09:38:50.544159Z"
    },
    "papermill": {
     "duration": 0.071196,
     "end_time": "2021-09-14T09:45:04.200281",
     "exception": false,
     "start_time": "2021-09-14T09:45:04.129085",
     "status": "completed"
    },
    "tags": []
   },
   "outputs": [
    {
     "data": {
      "text/plain": [
       "array([[95,  9],\n",
       "       [17, 58]])"
      ]
     },
     "execution_count": 28,
     "metadata": {},
     "output_type": "execute_result"
    }
   ],
   "source": [
    "cm=confusion_matrix(y_test,pred)\n",
    "cm"
   ]
  },
  {
   "cell_type": "code",
   "execution_count": 29,
   "id": "c34a5646",
   "metadata": {
    "execution": {
     "iopub.execute_input": "2021-09-14T09:45:04.328276Z",
     "iopub.status.busy": "2021-09-14T09:45:04.327675Z",
     "iopub.status.idle": "2021-09-14T09:45:04.334646Z",
     "shell.execute_reply": "2021-09-14T09:45:04.335211Z",
     "shell.execute_reply.started": "2021-09-14T09:38:59.195202Z"
    },
    "papermill": {
     "duration": 0.073323,
     "end_time": "2021-09-14T09:45:04.335368",
     "exception": false,
     "start_time": "2021-09-14T09:45:04.262045",
     "status": "completed"
    },
    "tags": []
   },
   "outputs": [
    {
     "name": "stdout",
     "output_type": "stream",
     "text": [
      "RandomForestClassifier report \n",
      "               precision    recall  f1-score   support\n",
      "\n",
      "           0       0.85      0.91      0.88       104\n",
      "           1       0.87      0.77      0.82        75\n",
      "\n",
      "    accuracy                           0.85       179\n",
      "   macro avg       0.86      0.84      0.85       179\n",
      "weighted avg       0.86      0.85      0.85       179\n",
      "\n"
     ]
    }
   ],
   "source": [
    "report=classification_report(y_test,pred)\n",
    "print(\"RandomForestClassifier report \\n\",report)"
   ]
  },
  {
   "cell_type": "code",
   "execution_count": 30,
   "id": "18826ca8",
   "metadata": {
    "execution": {
     "iopub.execute_input": "2021-09-14T09:45:04.463374Z",
     "iopub.status.busy": "2021-09-14T09:45:04.462775Z",
     "iopub.status.idle": "2021-09-14T09:45:04.586805Z",
     "shell.execute_reply": "2021-09-14T09:45:04.587326Z",
     "shell.execute_reply.started": "2021-09-14T09:39:09.588477Z"
    },
    "papermill": {
     "duration": 0.189715,
     "end_time": "2021-09-14T09:45:04.587511",
     "exception": false,
     "start_time": "2021-09-14T09:45:04.397796",
     "status": "completed"
    },
    "tags": []
   },
   "outputs": [
    {
     "name": "stdout",
     "output_type": "stream",
     "text": [
      "     Actual  pred\n",
      "0         0     1\n",
      "1         1     1\n",
      "2         1     0\n",
      "3         1     1\n",
      "4         0     0\n",
      "..      ...   ...\n",
      "174       1     1\n",
      "175       1     1\n",
      "176       0     0\n",
      "177       0     0\n",
      "178       0     1\n",
      "\n",
      "[179 rows x 2 columns]\n"
     ]
    }
   ],
   "source": [
    "ada=AdaBoostClassifier()\n",
    "ada.fit(X_train,y_train)\n",
    "pred=ada.predict(X_test)\n",
    "pred_df=pd.DataFrame({\"Actual\":y_test,\"pred\":pred})\n",
    "print(pred_df)"
   ]
  },
  {
   "cell_type": "code",
   "execution_count": 31,
   "id": "15245a99",
   "metadata": {
    "execution": {
     "iopub.execute_input": "2021-09-14T09:45:04.716714Z",
     "iopub.status.busy": "2021-09-14T09:45:04.716045Z",
     "iopub.status.idle": "2021-09-14T09:45:04.722370Z",
     "shell.execute_reply": "2021-09-14T09:45:04.722930Z",
     "shell.execute_reply.started": "2021-09-14T09:39:41.896887Z"
    },
    "papermill": {
     "duration": 0.072931,
     "end_time": "2021-09-14T09:45:04.723094",
     "exception": false,
     "start_time": "2021-09-14T09:45:04.650163",
     "status": "completed"
    },
    "tags": []
   },
   "outputs": [
    {
     "data": {
      "text/plain": [
       "array([[89, 15],\n",
       "       [19, 56]])"
      ]
     },
     "execution_count": 31,
     "metadata": {},
     "output_type": "execute_result"
    }
   ],
   "source": [
    "cm=confusion_matrix(y_test,pred)\n",
    "cm"
   ]
  },
  {
   "cell_type": "code",
   "execution_count": 32,
   "id": "8401e7d6",
   "metadata": {
    "execution": {
     "iopub.execute_input": "2021-09-14T09:45:04.856954Z",
     "iopub.status.busy": "2021-09-14T09:45:04.855799Z",
     "iopub.status.idle": "2021-09-14T09:45:04.864713Z",
     "shell.execute_reply": "2021-09-14T09:45:04.865144Z",
     "shell.execute_reply.started": "2021-09-14T09:39:49.150764Z"
    },
    "papermill": {
     "duration": 0.078264,
     "end_time": "2021-09-14T09:45:04.865327",
     "exception": false,
     "start_time": "2021-09-14T09:45:04.787063",
     "status": "completed"
    },
    "tags": []
   },
   "outputs": [
    {
     "name": "stdout",
     "output_type": "stream",
     "text": [
      "AdaBoostClassifier report \n",
      "               precision    recall  f1-score   support\n",
      "\n",
      "           0       0.82      0.86      0.84       104\n",
      "           1       0.79      0.75      0.77        75\n",
      "\n",
      "    accuracy                           0.81       179\n",
      "   macro avg       0.81      0.80      0.80       179\n",
      "weighted avg       0.81      0.81      0.81       179\n",
      "\n"
     ]
    }
   ],
   "source": [
    "report=classification_report(y_test,pred)\n",
    "print(\"AdaBoostClassifier report \\n\",report)"
   ]
  },
  {
   "cell_type": "code",
   "execution_count": 33,
   "id": "8cad8d1c",
   "metadata": {
    "execution": {
     "iopub.execute_input": "2021-09-14T09:45:04.997680Z",
     "iopub.status.busy": "2021-09-14T09:45:04.997033Z",
     "iopub.status.idle": "2021-09-14T09:45:05.015195Z",
     "shell.execute_reply": "2021-09-14T09:45:05.015699Z",
     "shell.execute_reply.started": "2021-09-14T09:39:57.518084Z"
    },
    "papermill": {
     "duration": 0.087104,
     "end_time": "2021-09-14T09:45:05.015875",
     "exception": false,
     "start_time": "2021-09-14T09:45:04.928771",
     "status": "completed"
    },
    "tags": []
   },
   "outputs": [
    {
     "name": "stdout",
     "output_type": "stream",
     "text": [
      "     Actual  pred\n",
      "0         0     1\n",
      "1         1     1\n",
      "2         1     0\n",
      "3         1     1\n",
      "4         0     0\n",
      "..      ...   ...\n",
      "174       1     1\n",
      "175       1     1\n",
      "176       0     0\n",
      "177       0     0\n",
      "178       0     1\n",
      "\n",
      "[179 rows x 2 columns]\n"
     ]
    }
   ],
   "source": [
    "classifier = KNeighborsClassifier()\n",
    "classifier.fit(X_train, y_train)\n",
    "predict=classifier.predict(X_test)\n",
    "pred_df=pd.DataFrame({\"Actual\":y_test,\"pred\":pred})\n",
    "print(pred_df)"
   ]
  },
  {
   "cell_type": "code",
   "execution_count": 34,
   "id": "e84c4fff",
   "metadata": {
    "execution": {
     "iopub.execute_input": "2021-09-14T09:45:05.145997Z",
     "iopub.status.busy": "2021-09-14T09:45:05.145326Z",
     "iopub.status.idle": "2021-09-14T09:45:05.150878Z",
     "shell.execute_reply": "2021-09-14T09:45:05.151388Z",
     "shell.execute_reply.started": "2021-09-14T09:40:05.507879Z"
    },
    "papermill": {
     "duration": 0.072117,
     "end_time": "2021-09-14T09:45:05.151558",
     "exception": false,
     "start_time": "2021-09-14T09:45:05.079441",
     "status": "completed"
    },
    "tags": []
   },
   "outputs": [
    {
     "data": {
      "text/plain": [
       "array([[89, 15],\n",
       "       [19, 56]])"
      ]
     },
     "execution_count": 34,
     "metadata": {},
     "output_type": "execute_result"
    }
   ],
   "source": [
    "cm=confusion_matrix(y_test,pred)\n",
    "cm"
   ]
  },
  {
   "cell_type": "code",
   "execution_count": 35,
   "id": "f4bcd244",
   "metadata": {
    "execution": {
     "iopub.execute_input": "2021-09-14T09:45:05.280551Z",
     "iopub.status.busy": "2021-09-14T09:45:05.279953Z",
     "iopub.status.idle": "2021-09-14T09:45:05.288976Z",
     "shell.execute_reply": "2021-09-14T09:45:05.289460Z",
     "shell.execute_reply.started": "2021-09-14T09:40:13.764162Z"
    },
    "papermill": {
     "duration": 0.075259,
     "end_time": "2021-09-14T09:45:05.289651",
     "exception": false,
     "start_time": "2021-09-14T09:45:05.214392",
     "status": "completed"
    },
    "tags": []
   },
   "outputs": [
    {
     "name": "stdout",
     "output_type": "stream",
     "text": [
      "KNeighborsClassifier report \n",
      "               precision    recall  f1-score   support\n",
      "\n",
      "           0       0.82      0.86      0.84       104\n",
      "           1       0.79      0.75      0.77        75\n",
      "\n",
      "    accuracy                           0.81       179\n",
      "   macro avg       0.81      0.80      0.80       179\n",
      "weighted avg       0.81      0.81      0.81       179\n",
      "\n"
     ]
    }
   ],
   "source": [
    "report=classification_report(y_test,pred)\n",
    "print(\"KNeighborsClassifier report \\n\",report)"
   ]
  },
  {
   "cell_type": "code",
   "execution_count": 36,
   "id": "216181e7",
   "metadata": {
    "execution": {
     "iopub.execute_input": "2021-09-14T09:45:05.420956Z",
     "iopub.status.busy": "2021-09-14T09:45:05.420351Z",
     "iopub.status.idle": "2021-09-14T09:45:05.444787Z",
     "shell.execute_reply": "2021-09-14T09:45:05.445289Z",
     "shell.execute_reply.started": "2021-09-14T09:40:33.904722Z"
    },
    "papermill": {
     "duration": 0.091973,
     "end_time": "2021-09-14T09:45:05.445453",
     "exception": false,
     "start_time": "2021-09-14T09:45:05.353480",
     "status": "completed"
    },
    "tags": []
   },
   "outputs": [
    {
     "name": "stdout",
     "output_type": "stream",
     "text": [
      "     Actual  pred\n",
      "0         0     1\n",
      "1         1     1\n",
      "2         1     0\n",
      "3         1     1\n",
      "4         0     0\n",
      "..      ...   ...\n",
      "174       1     1\n",
      "175       1     1\n",
      "176       0     0\n",
      "177       0     0\n",
      "178       0     1\n",
      "\n",
      "[179 rows x 2 columns]\n"
     ]
    }
   ],
   "source": [
    "classifier = SVC()\n",
    "classifier.fit(X_train, y_train)\n",
    "predict=classifier.predict(X_test)\n",
    "pred_df=pd.DataFrame({\"Actual\":y_test,\"pred\":pred})\n",
    "print(pred_df)"
   ]
  },
  {
   "cell_type": "code",
   "execution_count": 37,
   "id": "05c40caf",
   "metadata": {
    "execution": {
     "iopub.execute_input": "2021-09-14T09:45:05.578380Z",
     "iopub.status.busy": "2021-09-14T09:45:05.577745Z",
     "iopub.status.idle": "2021-09-14T09:45:05.583231Z",
     "shell.execute_reply": "2021-09-14T09:45:05.583796Z",
     "shell.execute_reply.started": "2021-09-14T09:40:41.091019Z"
    },
    "papermill": {
     "duration": 0.073815,
     "end_time": "2021-09-14T09:45:05.583956",
     "exception": false,
     "start_time": "2021-09-14T09:45:05.510141",
     "status": "completed"
    },
    "tags": []
   },
   "outputs": [
    {
     "data": {
      "text/plain": [
       "array([[89, 15],\n",
       "       [19, 56]])"
      ]
     },
     "execution_count": 37,
     "metadata": {},
     "output_type": "execute_result"
    }
   ],
   "source": [
    "cm=confusion_matrix(y_test,pred)\n",
    "cm"
   ]
  },
  {
   "cell_type": "code",
   "execution_count": 38,
   "id": "9cdb0cf0",
   "metadata": {
    "execution": {
     "iopub.execute_input": "2021-09-14T09:45:05.717682Z",
     "iopub.status.busy": "2021-09-14T09:45:05.717022Z",
     "iopub.status.idle": "2021-09-14T09:45:05.726166Z",
     "shell.execute_reply": "2021-09-14T09:45:05.725680Z",
     "shell.execute_reply.started": "2021-09-14T09:40:49.123194Z"
    },
    "papermill": {
     "duration": 0.077513,
     "end_time": "2021-09-14T09:45:05.726335",
     "exception": false,
     "start_time": "2021-09-14T09:45:05.648822",
     "status": "completed"
    },
    "tags": []
   },
   "outputs": [
    {
     "name": "stdout",
     "output_type": "stream",
     "text": [
      "SVC report \n",
      "               precision    recall  f1-score   support\n",
      "\n",
      "           0       0.82      0.86      0.84       104\n",
      "           1       0.79      0.75      0.77        75\n",
      "\n",
      "    accuracy                           0.81       179\n",
      "   macro avg       0.81      0.80      0.80       179\n",
      "weighted avg       0.81      0.81      0.81       179\n",
      "\n"
     ]
    }
   ],
   "source": [
    "report=classification_report(y_test,pred)\n",
    "print(\"SVC report \\n\",report)"
   ]
  },
  {
   "cell_type": "code",
   "execution_count": 39,
   "id": "2f86c0c6",
   "metadata": {
    "execution": {
     "iopub.execute_input": "2021-09-14T09:45:05.863492Z",
     "iopub.status.busy": "2021-09-14T09:45:05.862540Z",
     "iopub.status.idle": "2021-09-14T09:45:05.877534Z",
     "shell.execute_reply": "2021-09-14T09:45:05.878096Z",
     "shell.execute_reply.started": "2021-09-14T09:40:56.294858Z"
    },
    "papermill": {
     "duration": 0.083774,
     "end_time": "2021-09-14T09:45:05.878296",
     "exception": false,
     "start_time": "2021-09-14T09:45:05.794522",
     "status": "completed"
    },
    "tags": []
   },
   "outputs": [
    {
     "name": "stdout",
     "output_type": "stream",
     "text": [
      "     Actual  pred\n",
      "0         0     1\n",
      "1         1     1\n",
      "2         1     0\n",
      "3         1     1\n",
      "4         0     0\n",
      "..      ...   ...\n",
      "174       1     1\n",
      "175       1     1\n",
      "176       0     0\n",
      "177       0     0\n",
      "178       0     1\n",
      "\n",
      "[179 rows x 2 columns]\n"
     ]
    }
   ],
   "source": [
    "classifier = LogisticRegression()\n",
    "classifier.fit(X_train, y_train)\n",
    "predict=classifier.predict(X_test)\n",
    "pred_df=pd.DataFrame({\"Actual\":y_test,\"pred\":pred})\n",
    "print(pred_df)"
   ]
  },
  {
   "cell_type": "code",
   "execution_count": 40,
   "id": "284523ad",
   "metadata": {
    "execution": {
     "iopub.execute_input": "2021-09-14T09:45:06.024171Z",
     "iopub.status.busy": "2021-09-14T09:45:06.023539Z",
     "iopub.status.idle": "2021-09-14T09:45:06.026043Z",
     "shell.execute_reply": "2021-09-14T09:45:06.026515Z",
     "shell.execute_reply.started": "2021-09-14T09:41:13.839346Z"
    },
    "papermill": {
     "duration": 0.076518,
     "end_time": "2021-09-14T09:45:06.026669",
     "exception": false,
     "start_time": "2021-09-14T09:45:05.950151",
     "status": "completed"
    },
    "tags": []
   },
   "outputs": [
    {
     "data": {
      "text/plain": [
       "array([[89, 15],\n",
       "       [19, 56]])"
      ]
     },
     "execution_count": 40,
     "metadata": {},
     "output_type": "execute_result"
    }
   ],
   "source": [
    "cm=confusion_matrix(y_test,pred)\n",
    "cm"
   ]
  },
  {
   "cell_type": "code",
   "execution_count": 41,
   "id": "f76aac69",
   "metadata": {
    "execution": {
     "iopub.execute_input": "2021-09-14T09:45:06.161615Z",
     "iopub.status.busy": "2021-09-14T09:45:06.160372Z",
     "iopub.status.idle": "2021-09-14T09:45:06.169467Z",
     "shell.execute_reply": "2021-09-14T09:45:06.168985Z",
     "shell.execute_reply.started": "2021-09-14T09:41:21.739742Z"
    },
    "papermill": {
     "duration": 0.077495,
     "end_time": "2021-09-14T09:45:06.169612",
     "exception": false,
     "start_time": "2021-09-14T09:45:06.092117",
     "status": "completed"
    },
    "tags": []
   },
   "outputs": [
    {
     "name": "stdout",
     "output_type": "stream",
     "text": [
      "Logistic Regression \n",
      "               precision    recall  f1-score   support\n",
      "\n",
      "           0       0.82      0.86      0.84       104\n",
      "           1       0.79      0.75      0.77        75\n",
      "\n",
      "    accuracy                           0.81       179\n",
      "   macro avg       0.81      0.80      0.80       179\n",
      "weighted avg       0.81      0.81      0.81       179\n",
      "\n"
     ]
    }
   ],
   "source": [
    "report=classification_report(y_test,pred)\n",
    "print(\"Logistic Regression \\n\",report)"
   ]
  },
  {
   "cell_type": "code",
   "execution_count": 42,
   "id": "78442194",
   "metadata": {
    "execution": {
     "iopub.execute_input": "2021-09-14T09:45:06.306144Z",
     "iopub.status.busy": "2021-09-14T09:45:06.305442Z",
     "iopub.status.idle": "2021-09-14T09:45:06.314308Z",
     "shell.execute_reply": "2021-09-14T09:45:06.313628Z",
     "shell.execute_reply.started": "2021-09-14T09:41:30.295437Z"
    },
    "papermill": {
     "duration": 0.079724,
     "end_time": "2021-09-14T09:45:06.314489",
     "exception": false,
     "start_time": "2021-09-14T09:45:06.234765",
     "status": "completed"
    },
    "tags": []
   },
   "outputs": [
    {
     "name": "stdout",
     "output_type": "stream",
     "text": [
      "     Actual  pred\n",
      "0         0     1\n",
      "1         1     1\n",
      "2         1     0\n",
      "3         1     1\n",
      "4         0     0\n",
      "..      ...   ...\n",
      "174       1     1\n",
      "175       1     1\n",
      "176       0     0\n",
      "177       0     0\n",
      "178       0     1\n",
      "\n",
      "[179 rows x 2 columns]\n"
     ]
    }
   ],
   "source": [
    "model = GaussianNB()\n",
    "model.fit(X_train, y_train)\n",
    "y_model = model.predict(X_test) \n",
    "pred_df=pd.DataFrame({\"Actual\":y_test,\"pred\":pred})\n",
    "print(pred_df)"
   ]
  },
  {
   "cell_type": "code",
   "execution_count": 43,
   "id": "1a78af2b",
   "metadata": {
    "execution": {
     "iopub.execute_input": "2021-09-14T09:45:06.452149Z",
     "iopub.status.busy": "2021-09-14T09:45:06.451150Z",
     "iopub.status.idle": "2021-09-14T09:45:06.455844Z",
     "shell.execute_reply": "2021-09-14T09:45:06.456400Z",
     "shell.execute_reply.started": "2021-09-14T09:41:37.371332Z"
    },
    "papermill": {
     "duration": 0.075096,
     "end_time": "2021-09-14T09:45:06.456556",
     "exception": false,
     "start_time": "2021-09-14T09:45:06.381460",
     "status": "completed"
    },
    "tags": []
   },
   "outputs": [
    {
     "data": {
      "text/plain": [
       "array([[89, 15],\n",
       "       [19, 56]])"
      ]
     },
     "execution_count": 43,
     "metadata": {},
     "output_type": "execute_result"
    }
   ],
   "source": [
    "cm=confusion_matrix(y_test,pred)\n",
    "cm"
   ]
  },
  {
   "cell_type": "code",
   "execution_count": 44,
   "id": "c5e641a4",
   "metadata": {
    "execution": {
     "iopub.execute_input": "2021-09-14T09:45:06.594747Z",
     "iopub.status.busy": "2021-09-14T09:45:06.594102Z",
     "iopub.status.idle": "2021-09-14T09:45:06.602121Z",
     "shell.execute_reply": "2021-09-14T09:45:06.601667Z",
     "shell.execute_reply.started": "2021-09-14T09:41:48.071821Z"
    },
    "papermill": {
     "duration": 0.078826,
     "end_time": "2021-09-14T09:45:06.602265",
     "exception": false,
     "start_time": "2021-09-14T09:45:06.523439",
     "status": "completed"
    },
    "tags": []
   },
   "outputs": [
    {
     "name": "stdout",
     "output_type": "stream",
     "text": [
      "GaussianNB \n",
      "               precision    recall  f1-score   support\n",
      "\n",
      "           0       0.82      0.86      0.84       104\n",
      "           1       0.79      0.75      0.77        75\n",
      "\n",
      "    accuracy                           0.81       179\n",
      "   macro avg       0.81      0.80      0.80       179\n",
      "weighted avg       0.81      0.81      0.81       179\n",
      "\n"
     ]
    }
   ],
   "source": [
    "report=classification_report(y_test,pred)\n",
    "print(\"GaussianNB \\n\",report)"
   ]
  },
  {
   "cell_type": "code",
   "execution_count": 45,
   "id": "6c1709c3",
   "metadata": {
    "execution": {
     "iopub.execute_input": "2021-09-14T09:45:06.747570Z",
     "iopub.status.busy": "2021-09-14T09:45:06.746783Z",
     "iopub.status.idle": "2021-09-14T09:45:06.749669Z",
     "shell.execute_reply": "2021-09-14T09:45:06.749080Z",
     "shell.execute_reply.started": "2021-09-14T09:42:03.364643Z"
    },
    "papermill": {
     "duration": 0.077099,
     "end_time": "2021-09-14T09:45:06.749803",
     "exception": false,
     "start_time": "2021-09-14T09:45:06.672704",
     "status": "completed"
    },
    "tags": []
   },
   "outputs": [],
   "source": [
    "test=test_data.drop(columns=[\"PassengerId\",\"Name\",\"Ticket\",\"Cabin\"],axis=1)"
   ]
  },
  {
   "cell_type": "code",
   "execution_count": 46,
   "id": "9b012c70",
   "metadata": {
    "execution": {
     "iopub.execute_input": "2021-09-14T09:45:06.902558Z",
     "iopub.status.busy": "2021-09-14T09:45:06.901798Z",
     "iopub.status.idle": "2021-09-14T09:45:06.904663Z",
     "shell.execute_reply": "2021-09-14T09:45:06.905174Z",
     "shell.execute_reply.started": "2021-09-14T09:42:11.529204Z"
    },
    "papermill": {
     "duration": 0.088155,
     "end_time": "2021-09-14T09:45:06.905337",
     "exception": false,
     "start_time": "2021-09-14T09:45:06.817182",
     "status": "completed"
    },
    "tags": []
   },
   "outputs": [
    {
     "data": {
      "text/html": [
       "<div>\n",
       "<style scoped>\n",
       "    .dataframe tbody tr th:only-of-type {\n",
       "        vertical-align: middle;\n",
       "    }\n",
       "\n",
       "    .dataframe tbody tr th {\n",
       "        vertical-align: top;\n",
       "    }\n",
       "\n",
       "    .dataframe thead th {\n",
       "        text-align: right;\n",
       "    }\n",
       "</style>\n",
       "<table border=\"1\" class=\"dataframe\">\n",
       "  <thead>\n",
       "    <tr style=\"text-align: right;\">\n",
       "      <th></th>\n",
       "      <th>Pclass</th>\n",
       "      <th>Sex</th>\n",
       "      <th>Age</th>\n",
       "      <th>SibSp</th>\n",
       "      <th>Parch</th>\n",
       "      <th>Fare</th>\n",
       "      <th>Embarked</th>\n",
       "    </tr>\n",
       "  </thead>\n",
       "  <tbody>\n",
       "    <tr>\n",
       "      <th>0</th>\n",
       "      <td>3</td>\n",
       "      <td>male</td>\n",
       "      <td>34.5</td>\n",
       "      <td>0</td>\n",
       "      <td>0</td>\n",
       "      <td>7.8292</td>\n",
       "      <td>Q</td>\n",
       "    </tr>\n",
       "    <tr>\n",
       "      <th>1</th>\n",
       "      <td>3</td>\n",
       "      <td>female</td>\n",
       "      <td>47.0</td>\n",
       "      <td>1</td>\n",
       "      <td>0</td>\n",
       "      <td>7.0000</td>\n",
       "      <td>S</td>\n",
       "    </tr>\n",
       "    <tr>\n",
       "      <th>2</th>\n",
       "      <td>2</td>\n",
       "      <td>male</td>\n",
       "      <td>62.0</td>\n",
       "      <td>0</td>\n",
       "      <td>0</td>\n",
       "      <td>9.6875</td>\n",
       "      <td>Q</td>\n",
       "    </tr>\n",
       "    <tr>\n",
       "      <th>3</th>\n",
       "      <td>3</td>\n",
       "      <td>male</td>\n",
       "      <td>27.0</td>\n",
       "      <td>0</td>\n",
       "      <td>0</td>\n",
       "      <td>8.6625</td>\n",
       "      <td>S</td>\n",
       "    </tr>\n",
       "    <tr>\n",
       "      <th>4</th>\n",
       "      <td>3</td>\n",
       "      <td>female</td>\n",
       "      <td>22.0</td>\n",
       "      <td>1</td>\n",
       "      <td>1</td>\n",
       "      <td>12.2875</td>\n",
       "      <td>S</td>\n",
       "    </tr>\n",
       "    <tr>\n",
       "      <th>...</th>\n",
       "      <td>...</td>\n",
       "      <td>...</td>\n",
       "      <td>...</td>\n",
       "      <td>...</td>\n",
       "      <td>...</td>\n",
       "      <td>...</td>\n",
       "      <td>...</td>\n",
       "    </tr>\n",
       "    <tr>\n",
       "      <th>413</th>\n",
       "      <td>3</td>\n",
       "      <td>male</td>\n",
       "      <td>NaN</td>\n",
       "      <td>0</td>\n",
       "      <td>0</td>\n",
       "      <td>8.0500</td>\n",
       "      <td>S</td>\n",
       "    </tr>\n",
       "    <tr>\n",
       "      <th>414</th>\n",
       "      <td>1</td>\n",
       "      <td>female</td>\n",
       "      <td>39.0</td>\n",
       "      <td>0</td>\n",
       "      <td>0</td>\n",
       "      <td>108.9000</td>\n",
       "      <td>C</td>\n",
       "    </tr>\n",
       "    <tr>\n",
       "      <th>415</th>\n",
       "      <td>3</td>\n",
       "      <td>male</td>\n",
       "      <td>38.5</td>\n",
       "      <td>0</td>\n",
       "      <td>0</td>\n",
       "      <td>7.2500</td>\n",
       "      <td>S</td>\n",
       "    </tr>\n",
       "    <tr>\n",
       "      <th>416</th>\n",
       "      <td>3</td>\n",
       "      <td>male</td>\n",
       "      <td>NaN</td>\n",
       "      <td>0</td>\n",
       "      <td>0</td>\n",
       "      <td>8.0500</td>\n",
       "      <td>S</td>\n",
       "    </tr>\n",
       "    <tr>\n",
       "      <th>417</th>\n",
       "      <td>3</td>\n",
       "      <td>male</td>\n",
       "      <td>NaN</td>\n",
       "      <td>1</td>\n",
       "      <td>1</td>\n",
       "      <td>22.3583</td>\n",
       "      <td>C</td>\n",
       "    </tr>\n",
       "  </tbody>\n",
       "</table>\n",
       "<p>418 rows × 7 columns</p>\n",
       "</div>"
      ],
      "text/plain": [
       "     Pclass     Sex   Age  SibSp  Parch      Fare Embarked\n",
       "0         3    male  34.5      0      0    7.8292        Q\n",
       "1         3  female  47.0      1      0    7.0000        S\n",
       "2         2    male  62.0      0      0    9.6875        Q\n",
       "3         3    male  27.0      0      0    8.6625        S\n",
       "4         3  female  22.0      1      1   12.2875        S\n",
       "..      ...     ...   ...    ...    ...       ...      ...\n",
       "413       3    male   NaN      0      0    8.0500        S\n",
       "414       1  female  39.0      0      0  108.9000        C\n",
       "415       3    male  38.5      0      0    7.2500        S\n",
       "416       3    male   NaN      0      0    8.0500        S\n",
       "417       3    male   NaN      1      1   22.3583        C\n",
       "\n",
       "[418 rows x 7 columns]"
      ]
     },
     "execution_count": 46,
     "metadata": {},
     "output_type": "execute_result"
    }
   ],
   "source": [
    "test"
   ]
  },
  {
   "cell_type": "code",
   "execution_count": 47,
   "id": "6ecdbe20",
   "metadata": {
    "execution": {
     "iopub.execute_input": "2021-09-14T09:45:07.050161Z",
     "iopub.status.busy": "2021-09-14T09:45:07.047152Z",
     "iopub.status.idle": "2021-09-14T09:45:07.052124Z",
     "shell.execute_reply": "2021-09-14T09:45:07.052563Z",
     "shell.execute_reply.started": "2021-09-14T09:42:29.820622Z"
    },
    "papermill": {
     "duration": 0.075328,
     "end_time": "2021-09-14T09:45:07.052755",
     "exception": false,
     "start_time": "2021-09-14T09:45:06.977427",
     "status": "completed"
    },
    "tags": []
   },
   "outputs": [],
   "source": [
    "def Age(cols):\n",
    "    Age=cols[0]\n",
    "    Pclass=cols[1]\n",
    "    if pd.isnull(Age):\n",
    "        if Pclass==1:\n",
    "            return 38.23\n",
    "        elif Pclass==2:\n",
    "            return 29.87\n",
    "        elif Pclass==3:\n",
    "            return 25.14\n",
    "    else:\n",
    "        return Age"
   ]
  },
  {
   "cell_type": "code",
   "execution_count": 48,
   "id": "5d559147",
   "metadata": {
    "execution": {
     "iopub.execute_input": "2021-09-14T09:45:07.195655Z",
     "iopub.status.busy": "2021-09-14T09:45:07.194956Z",
     "iopub.status.idle": "2021-09-14T09:45:07.197730Z",
     "shell.execute_reply": "2021-09-14T09:45:07.197129Z",
     "shell.execute_reply.started": "2021-09-14T09:43:18.186756Z"
    },
    "papermill": {
     "duration": 0.07783,
     "end_time": "2021-09-14T09:45:07.197872",
     "exception": false,
     "start_time": "2021-09-14T09:45:07.120042",
     "status": "completed"
    },
    "tags": []
   },
   "outputs": [],
   "source": [
    "sex=pd.get_dummies(test[\"Sex\"],drop_first=True)\n",
    "Embark=pd.get_dummies(test[\"Embarked\"],drop_first=True)"
   ]
  },
  {
   "cell_type": "code",
   "execution_count": 49,
   "id": "ccc28c03",
   "metadata": {
    "execution": {
     "iopub.execute_input": "2021-09-14T09:45:07.336715Z",
     "iopub.status.busy": "2021-09-14T09:45:07.335995Z",
     "iopub.status.idle": "2021-09-14T09:45:07.348411Z",
     "shell.execute_reply": "2021-09-14T09:45:07.348944Z",
     "shell.execute_reply.started": "2021-09-14T09:42:54.862846Z"
    },
    "papermill": {
     "duration": 0.08317,
     "end_time": "2021-09-14T09:45:07.349108",
     "exception": false,
     "start_time": "2021-09-14T09:45:07.265938",
     "status": "completed"
    },
    "tags": []
   },
   "outputs": [],
   "source": [
    "test[\"Age\"]=test[[\"Age\",\"Pclass\"]].apply(Age,axis=1)"
   ]
  },
  {
   "cell_type": "code",
   "execution_count": 50,
   "id": "54b4f9c5",
   "metadata": {
    "execution": {
     "iopub.execute_input": "2021-09-14T09:45:07.486325Z",
     "iopub.status.busy": "2021-09-14T09:45:07.485685Z",
     "iopub.status.idle": "2021-09-14T09:45:07.497007Z",
     "shell.execute_reply": "2021-09-14T09:45:07.497471Z",
     "shell.execute_reply.started": "2021-09-14T09:43:30.154110Z"
    },
    "papermill": {
     "duration": 0.082222,
     "end_time": "2021-09-14T09:45:07.497650",
     "exception": false,
     "start_time": "2021-09-14T09:45:07.415428",
     "status": "completed"
    },
    "tags": []
   },
   "outputs": [
    {
     "data": {
      "text/plain": [
       "Pclass    0\n",
       "Age       0\n",
       "SibSp     0\n",
       "Parch     0\n",
       "Fare      1\n",
       "male      0\n",
       "Q         0\n",
       "S         0\n",
       "dtype: int64"
      ]
     },
     "execution_count": 50,
     "metadata": {},
     "output_type": "execute_result"
    }
   ],
   "source": [
    "test=test.drop(columns=[\"Sex\",\"Embarked\"],axis=1)\n",
    "test=pd.concat([test,sex,Embark],axis=1)\n",
    "test.isnull().sum()"
   ]
  },
  {
   "cell_type": "code",
   "execution_count": 51,
   "id": "63d6e307",
   "metadata": {
    "execution": {
     "iopub.execute_input": "2021-09-14T09:45:07.685974Z",
     "iopub.status.busy": "2021-09-14T09:45:07.685391Z",
     "iopub.status.idle": "2021-09-14T09:45:07.707045Z",
     "shell.execute_reply": "2021-09-14T09:45:07.706538Z",
     "shell.execute_reply.started": "2021-09-14T09:43:43.831346Z"
    },
    "papermill": {
     "duration": 0.142517,
     "end_time": "2021-09-14T09:45:07.707192",
     "exception": false,
     "start_time": "2021-09-14T09:45:07.564675",
     "status": "completed"
    },
    "tags": []
   },
   "outputs": [],
   "source": [
    "test[\"Fare\"]=test[\"Fare\"].fillna(test[\"Fare\"].mean())\n",
    "test=sc.fit_transform(test)\n",
    "y_pred=rfc.predict(test)"
   ]
  },
  {
   "cell_type": "code",
   "execution_count": 52,
   "id": "2552d4c7",
   "metadata": {
    "execution": {
     "iopub.execute_input": "2021-09-14T09:45:07.848221Z",
     "iopub.status.busy": "2021-09-14T09:45:07.847481Z",
     "iopub.status.idle": "2021-09-14T09:45:07.850587Z",
     "shell.execute_reply": "2021-09-14T09:45:07.851072Z",
     "shell.execute_reply.started": "2021-09-14T09:43:59.838674Z"
    },
    "papermill": {
     "duration": 0.0774,
     "end_time": "2021-09-14T09:45:07.851237",
     "exception": false,
     "start_time": "2021-09-14T09:45:07.773837",
     "status": "completed"
    },
    "tags": []
   },
   "outputs": [
    {
     "data": {
      "text/plain": [
       "array([0, 0, 0, 0, 1, 0, 0, 0, 1, 0, 0, 0, 1, 0, 1, 1, 0, 0, 0, 0, 1, 1,\n",
       "       1, 0, 1, 0, 1, 0, 0, 0, 0, 0, 0, 0, 1, 0, 0, 0, 0, 0, 0, 0, 0, 1,\n",
       "       1, 0, 0, 0, 1, 1, 1, 0, 1, 1, 0, 0, 0, 0, 0, 1, 0, 0, 0, 0, 0, 1,\n",
       "       0, 0, 0, 1, 0, 0, 0, 0, 1, 0, 0, 1, 0, 0, 1, 0, 0, 0, 0, 0, 0, 1,\n",
       "       0, 1, 1, 0, 1, 0, 0, 0, 1, 0, 1, 0, 1, 0, 0, 0, 1, 0, 0, 0, 0, 0,\n",
       "       0, 0, 1, 0, 1, 0, 0, 1, 0, 1, 1, 0, 1, 0, 0, 1, 0, 1, 0, 0, 0, 0,\n",
       "       0, 0, 0, 0, 0, 0, 1, 0, 0, 1, 0, 0, 0, 0, 0, 0, 0, 0, 1, 0, 0, 1,\n",
       "       0, 0, 1, 1, 0, 1, 0, 1, 1, 0, 0, 0, 0, 0, 1, 0, 0, 0, 0, 0, 0, 1,\n",
       "       1, 1, 1, 1, 0, 1, 1, 0, 1, 0, 1, 0, 0, 0, 0, 0, 1, 0, 1, 0, 1, 1,\n",
       "       0, 0, 1, 1, 0, 1, 0, 0, 0, 0, 1, 0, 0, 0, 0, 1, 0, 0, 0, 0, 1, 0,\n",
       "       1, 0, 1, 0, 1, 0, 0, 0, 0, 0, 0, 1, 0, 0, 1, 0, 0, 0, 1, 1, 1, 1,\n",
       "       1, 0, 0, 0, 1, 0, 1, 0, 1, 0, 1, 0, 0, 0, 0, 0, 1, 0, 0, 0, 1, 1,\n",
       "       0, 0, 0, 0, 0, 0, 0, 0, 1, 1, 0, 1, 0, 0, 0, 0, 0, 1, 0, 1, 1, 0,\n",
       "       0, 0, 0, 0, 0, 0, 0, 0, 0, 0, 1, 0, 0, 0, 0, 1, 0, 0, 0, 1, 1, 1,\n",
       "       0, 0, 0, 0, 0, 0, 1, 1, 0, 0, 0, 0, 0, 0, 0, 0, 1, 0, 1, 0, 0, 0,\n",
       "       1, 0, 0, 1, 0, 0, 0, 0, 0, 0, 0, 0, 0, 1, 0, 1, 0, 0, 0, 1, 1, 0,\n",
       "       0, 0, 1, 0, 1, 0, 0, 0, 0, 1, 1, 0, 1, 0, 0, 0, 1, 0, 0, 1, 0, 0,\n",
       "       1, 1, 0, 0, 0, 0, 0, 0, 1, 0, 0, 1, 0, 0, 0, 0, 0, 1, 0, 0, 0, 1,\n",
       "       0, 1, 0, 0, 1, 0, 1, 0, 0, 0, 0, 0, 0, 1, 0, 1, 1, 0, 1, 0, 0, 1])"
      ]
     },
     "execution_count": 52,
     "metadata": {},
     "output_type": "execute_result"
    }
   ],
   "source": [
    "y_pred"
   ]
  },
  {
   "cell_type": "code",
   "execution_count": 53,
   "id": "05ae5be2",
   "metadata": {
    "execution": {
     "iopub.execute_input": "2021-09-14T09:45:07.992873Z",
     "iopub.status.busy": "2021-09-14T09:45:07.992243Z",
     "iopub.status.idle": "2021-09-14T09:45:07.999594Z",
     "shell.execute_reply": "2021-09-14T09:45:07.999104Z",
     "shell.execute_reply.started": "2021-09-14T09:44:22.915850Z"
    },
    "papermill": {
     "duration": 0.080654,
     "end_time": "2021-09-14T09:45:07.999736",
     "exception": false,
     "start_time": "2021-09-14T09:45:07.919082",
     "status": "completed"
    },
    "tags": []
   },
   "outputs": [
    {
     "name": "stdout",
     "output_type": "stream",
     "text": [
      "Your submission was successfully saved.\n"
     ]
    }
   ],
   "source": [
    "output = pd.DataFrame({'PassengerId': test_data.PassengerId, 'Survived': y_pred})\n",
    "output.to_csv('my_submission.csv', index=False)\n",
    "print(\"Your submission was successfully saved.\")\n"
   ]
  },
  {
   "cell_type": "code",
   "execution_count": 54,
   "id": "1b83254a",
   "metadata": {
    "execution": {
     "iopub.execute_input": "2021-09-14T09:45:08.141482Z",
     "iopub.status.busy": "2021-09-14T09:45:08.140863Z",
     "iopub.status.idle": "2021-09-14T09:45:08.143546Z",
     "shell.execute_reply": "2021-09-14T09:45:08.144014Z",
     "shell.execute_reply.started": "2021-09-14T09:44:31.960876Z"
    },
    "papermill": {
     "duration": 0.077921,
     "end_time": "2021-09-14T09:45:08.144184",
     "exception": false,
     "start_time": "2021-09-14T09:45:08.066263",
     "status": "completed"
    },
    "tags": []
   },
   "outputs": [
    {
     "name": "stdout",
     "output_type": "stream",
     "text": [
      "   PassengerId  Survived\n",
      "0          892         0\n",
      "1          893         0\n",
      "2          894         0\n",
      "3          895         0\n",
      "4          896         1\n"
     ]
    }
   ],
   "source": [
    "print(output.head())\n"
   ]
  }
 ],
 "metadata": {
  "kernelspec": {
   "display_name": "Python 3",
   "language": "python",
   "name": "python3"
  },
  "language_info": {
   "codemirror_mode": {
    "name": "ipython",
    "version": 3
   },
   "file_extension": ".py",
   "mimetype": "text/x-python",
   "name": "python",
   "nbconvert_exporter": "python",
   "pygments_lexer": "ipython3",
   "version": "3.7.10"
  },
  "papermill": {
   "default_parameters": {},
   "duration": 21.799371,
   "end_time": "2021-09-14T09:45:09.808848",
   "environment_variables": {},
   "exception": null,
   "input_path": "__notebook__.ipynb",
   "output_path": "__notebook__.ipynb",
   "parameters": {},
   "start_time": "2021-09-14T09:44:48.009477",
   "version": "2.3.3"
  }
 },
 "nbformat": 4,
 "nbformat_minor": 5
}
